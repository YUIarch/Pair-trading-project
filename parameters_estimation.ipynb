{
 "cells": [
  {
   "cell_type": "code",
   "execution_count": 1,
   "metadata": {},
   "outputs": [
    {
     "data": {
      "text/html": [
       "<div>\n",
       "<style scoped>\n",
       "    .dataframe tbody tr th:only-of-type {\n",
       "        vertical-align: middle;\n",
       "    }\n",
       "\n",
       "    .dataframe tbody tr th {\n",
       "        vertical-align: top;\n",
       "    }\n",
       "\n",
       "    .dataframe thead th {\n",
       "        text-align: right;\n",
       "    }\n",
       "</style>\n",
       "<table border=\"1\" class=\"dataframe\">\n",
       "  <thead>\n",
       "    <tr style=\"text-align: right;\">\n",
       "      <th></th>\n",
       "      <th>unixtime</th>\n",
       "      <th>itbit_price</th>\n",
       "      <th>btce_price</th>\n",
       "      <th>stamp_price</th>\n",
       "      <th>datetime</th>\n",
       "      <th>t</th>\n",
       "      <th>log_btce</th>\n",
       "      <th>log_itbit</th>\n",
       "      <th>log_stamp</th>\n",
       "    </tr>\n",
       "  </thead>\n",
       "  <tbody>\n",
       "    <tr>\n",
       "      <th>0</th>\n",
       "      <td>1396572190</td>\n",
       "      <td>441.50</td>\n",
       "      <td>439.5230</td>\n",
       "      <td>457.37723</td>\n",
       "      <td>4/3/2014</td>\n",
       "      <td>0</td>\n",
       "      <td>6.085690</td>\n",
       "      <td>6.090178</td>\n",
       "      <td>6.125508</td>\n",
       "    </tr>\n",
       "    <tr>\n",
       "      <th>1</th>\n",
       "      <td>1396578190</td>\n",
       "      <td>441.50</td>\n",
       "      <td>438.9990</td>\n",
       "      <td>447.54221</td>\n",
       "      <td>4/3/2014</td>\n",
       "      <td>1</td>\n",
       "      <td>6.084497</td>\n",
       "      <td>6.090178</td>\n",
       "      <td>6.103771</td>\n",
       "    </tr>\n",
       "    <tr>\n",
       "      <th>2</th>\n",
       "      <td>1396584190</td>\n",
       "      <td>438.87</td>\n",
       "      <td>433.9890</td>\n",
       "      <td>442.07505</td>\n",
       "      <td>4/4/2014</td>\n",
       "      <td>2</td>\n",
       "      <td>6.073019</td>\n",
       "      <td>6.084203</td>\n",
       "      <td>6.091480</td>\n",
       "    </tr>\n",
       "    <tr>\n",
       "      <th>3</th>\n",
       "      <td>1396590190</td>\n",
       "      <td>435.28</td>\n",
       "      <td>425.0000</td>\n",
       "      <td>442.08631</td>\n",
       "      <td>4/4/2014</td>\n",
       "      <td>3</td>\n",
       "      <td>6.052089</td>\n",
       "      <td>6.075990</td>\n",
       "      <td>6.091505</td>\n",
       "    </tr>\n",
       "    <tr>\n",
       "      <th>4</th>\n",
       "      <td>1396596190</td>\n",
       "      <td>444.56</td>\n",
       "      <td>441.1105</td>\n",
       "      <td>452.57262</td>\n",
       "      <td>4/4/2014</td>\n",
       "      <td>4</td>\n",
       "      <td>6.089295</td>\n",
       "      <td>6.097085</td>\n",
       "      <td>6.114948</td>\n",
       "    </tr>\n",
       "  </tbody>\n",
       "</table>\n",
       "</div>"
      ],
      "text/plain": [
       "     unixtime  itbit_price  btce_price  stamp_price  datetime  t  log_btce  \\\n",
       "0  1396572190       441.50    439.5230    457.37723  4/3/2014  0  6.085690   \n",
       "1  1396578190       441.50    438.9990    447.54221  4/3/2014  1  6.084497   \n",
       "2  1396584190       438.87    433.9890    442.07505  4/4/2014  2  6.073019   \n",
       "3  1396590190       435.28    425.0000    442.08631  4/4/2014  3  6.052089   \n",
       "4  1396596190       444.56    441.1105    452.57262  4/4/2014  4  6.089295   \n",
       "\n",
       "   log_itbit  log_stamp  \n",
       "0   6.090178   6.125508  \n",
       "1   6.090178   6.103771  \n",
       "2   6.084203   6.091480  \n",
       "3   6.075990   6.091505  \n",
       "4   6.097085   6.114948  "
      ]
     },
     "execution_count": 1,
     "metadata": {},
     "output_type": "execute_result"
    }
   ],
   "source": [
    "import pandas as pd\n",
    "import numpy as np\n",
    "data=pd.read_csv(\"C:/Users/Bao Yu/Desktop/project/data/dataset.csv\")\n",
    "data=data.iloc[:,1:]\n",
    "data.head()"
   ]
  },
  {
   "cell_type": "code",
   "execution_count": 53,
   "metadata": {},
   "outputs": [
    {
     "data": {
      "image/png": "[encoded data removed]",
      "text/plain": [
       "<Figure size 432x288 with 1 Axes>"
      ]
     },
     "metadata": {
      "needs_background": "light"
     },
     "output_type": "display_data"
    }
   ],
   "source": [
    "import matplotlib.pyplot as plt\n",
    "import time\n",
    "import matplotlib.dates as mdates\n",
    "\n",
    "plt.gca().xaxis.set_major_formatter(mdates.DateFormatter('%m/%d/%Y'))\n",
    "plt.gca().xaxis.set_major_locator(mdates.YearLocator())\n",
    "plt.plot(data['datetime'],data['log_btce'],c='b')\n",
    "plt.plot(data['datetime'],data['log_itbit'],c='y')\n",
    "plt.plot(data['datetime'],data['log_stamp'],c='g')\n",
    "plt.legend(['log_btce','log_itbit','log_stamp'],loc='best')\n",
    "plt.show()"
   ]
  },
  {
   "cell_type": "code",
   "execution_count": 4,
   "metadata": {},
   "outputs": [
    {
     "name": "stdout",
     "output_type": "stream",
     "text": [
      "(-18.482144461187684, 2.1325081738934284e-30, 41, 14401, {'1%': -3.4308041674881267, '5%': -2.8617407217693516, '10%': -2.566876839459475}, -96965.31604047758)\n",
      "(-28.48771509871662, 0.0, 16, 14426, {'1%': -3.430803380283876, '5%': -2.8617403738867497, '10%': -2.5668766542851706}, -96109.71046563394)\n",
      "(-23.729620253117332, 0.0, 33, 14409, {'1%': -3.430803915285511, '5%': -2.8617406103155654, '10%': -2.5668767801337777}, -84229.1759877054)\n"
     ]
    }
   ],
   "source": [
    "from statsmodels.tsa.stattools import adfuller\n",
    "#log_return is stationary\n",
    "print(adfuller(np.diff(data['log_btce'])))\n",
    "print(adfuller(np.diff(data['log_itbit'])))\n",
    "print(adfuller(np.diff(data['log_stamp'])))"
   ]
  },
  {
   "cell_type": "code",
   "execution_count": 7,
   "metadata": {},
   "outputs": [
    {
     "name": "stdout",
     "output_type": "stream",
     "text": [
      "(-8.72349609342606, 1.9964549568242366e-11, array([-4.97095598, -4.4297201 , -4.14710897]))\n"
     ]
    }
   ],
   "source": [
    "from statsmodels.tsa.stattools import coint\n",
    "# 测试协整关系的存在(log_price)\n",
    "print(coint(data.log_stamp, data.iloc[:,5:8],trend='ct'))"
   ]
  },
  {
   "cell_type": "code",
   "execution_count": 8,
   "metadata": {},
   "outputs": [
    {
     "data": {
      "text/plain": [
       "const       -9.456928e-03\n",
       "t           -8.362100e-07\n",
       "log_btce     2.482297e-02\n",
       "log_itbit    9.782126e-01\n",
       "dtype: float64"
      ]
     },
     "execution_count": 8,
     "metadata": {},
     "output_type": "execute_result"
    }
   ],
   "source": [
    "import statsmodels.api as sm\n",
    "#获得协整系数\n",
    "X = sm.add_constant(data.iloc[:,5:8])\n",
    "coef = sm.OLS(data.log_stamp, X).fit().params\n",
    "coef"
   ]
  },
  {
   "cell_type": "code",
   "execution_count": 16,
   "metadata": {},
   "outputs": [],
   "source": [
    "from numpy import *;\n",
    "a=coef[0]\n",
    "b=coef[1]\n",
    "beta=mat([coef[2],coef[3],-1])"
   ]
  },
  {
   "cell_type": "code",
   "execution_count": 35,
   "metadata": {},
   "outputs": [],
   "source": [
    "z=a+(b*mat(data.iloc[:,5])).T+data.iloc[:,6:9].dot(beta.T)\n"
   ]
  },
  {
   "cell_type": "code",
   "execution_count": 46,
   "metadata": {},
   "outputs": [
    {
     "data": {
      "text/html": [
       "<div>\n",
       "<style scoped>\n",
       "    .dataframe tbody tr th:only-of-type {\n",
       "        vertical-align: middle;\n",
       "    }\n",
       "\n",
       "    .dataframe tbody tr th {\n",
       "        vertical-align: top;\n",
       "    }\n",
       "\n",
       "    .dataframe thead th {\n",
       "        text-align: right;\n",
       "    }\n",
       "</style>\n",
       "<table border=\"1\" class=\"dataframe\">\n",
       "  <thead>\n",
       "    <tr style=\"text-align: right;\">\n",
       "      <th></th>\n",
       "      <th>unixtime</th>\n",
       "      <th>itbit_price</th>\n",
       "      <th>btce_price</th>\n",
       "      <th>stamp_price</th>\n",
       "      <th>datetime</th>\n",
       "      <th>t</th>\n",
       "      <th>log_btce</th>\n",
       "      <th>log_itbit</th>\n",
       "      <th>log_stamp</th>\n",
       "      <th>z</th>\n",
       "    </tr>\n",
       "  </thead>\n",
       "  <tbody>\n",
       "    <tr>\n",
       "      <th>0</th>\n",
       "      <td>1396572190</td>\n",
       "      <td>441.50</td>\n",
       "      <td>439.5230</td>\n",
       "      <td>457.37723</td>\n",
       "      <td>4/3/2014</td>\n",
       "      <td>0</td>\n",
       "      <td>6.085690</td>\n",
       "      <td>6.090178</td>\n",
       "      <td>6.125508</td>\n",
       "      <td>-0.026411</td>\n",
       "    </tr>\n",
       "    <tr>\n",
       "      <th>1</th>\n",
       "      <td>1396578190</td>\n",
       "      <td>441.50</td>\n",
       "      <td>438.9990</td>\n",
       "      <td>447.54221</td>\n",
       "      <td>4/3/2014</td>\n",
       "      <td>1</td>\n",
       "      <td>6.084497</td>\n",
       "      <td>6.090178</td>\n",
       "      <td>6.103771</td>\n",
       "      <td>-0.004704</td>\n",
       "    </tr>\n",
       "    <tr>\n",
       "      <th>2</th>\n",
       "      <td>1396584190</td>\n",
       "      <td>438.87</td>\n",
       "      <td>433.9890</td>\n",
       "      <td>442.07505</td>\n",
       "      <td>4/4/2014</td>\n",
       "      <td>2</td>\n",
       "      <td>6.073019</td>\n",
       "      <td>6.084203</td>\n",
       "      <td>6.091480</td>\n",
       "      <td>0.001457</td>\n",
       "    </tr>\n",
       "    <tr>\n",
       "      <th>3</th>\n",
       "      <td>1396590190</td>\n",
       "      <td>435.28</td>\n",
       "      <td>425.0000</td>\n",
       "      <td>442.08631</td>\n",
       "      <td>4/4/2014</td>\n",
       "      <td>3</td>\n",
       "      <td>6.052089</td>\n",
       "      <td>6.075990</td>\n",
       "      <td>6.091505</td>\n",
       "      <td>-0.007124</td>\n",
       "    </tr>\n",
       "    <tr>\n",
       "      <th>4</th>\n",
       "      <td>1396596190</td>\n",
       "      <td>444.56</td>\n",
       "      <td>441.1105</td>\n",
       "      <td>452.57262</td>\n",
       "      <td>4/4/2014</td>\n",
       "      <td>4</td>\n",
       "      <td>6.089295</td>\n",
       "      <td>6.097085</td>\n",
       "      <td>6.114948</td>\n",
       "      <td>-0.009009</td>\n",
       "    </tr>\n",
       "  </tbody>\n",
       "</table>\n",
       "</div>"
      ],
      "text/plain": [
       "     unixtime  itbit_price  btce_price  stamp_price  datetime  t  log_btce  \\\n",
       "0  1396572190       441.50    439.5230    457.37723  4/3/2014  0  6.085690   \n",
       "1  1396578190       441.50    438.9990    447.54221  4/3/2014  1  6.084497   \n",
       "2  1396584190       438.87    433.9890    442.07505  4/4/2014  2  6.073019   \n",
       "3  1396590190       435.28    425.0000    442.08631  4/4/2014  3  6.052089   \n",
       "4  1396596190       444.56    441.1105    452.57262  4/4/2014  4  6.089295   \n",
       "\n",
       "   log_itbit  log_stamp         z  \n",
       "0   6.090178   6.125508 -0.026411  \n",
       "1   6.090178   6.103771 -0.004704  \n",
       "2   6.084203   6.091480  0.001457  \n",
       "3   6.075990   6.091505 -0.007124  \n",
       "4   6.097085   6.114948 -0.009009  "
      ]
     },
     "execution_count": 46,
     "metadata": {},
     "output_type": "execute_result"
    }
   ],
   "source": [
    "data['z']=z\n",
    "data.head()"
   ]
  },
  {
   "cell_type": "code",
   "execution_count": 57,
   "metadata": {},
   "outputs": [],
   "source": [
    "data['datetime'] = pd.to_datetime(data.datetime)"
   ]
  },
  {
   "cell_type": "code",
   "execution_count": 59,
   "metadata": {},
   "outputs": [
    {
     "data": {
      "image/png": "[encoded data removed]",
      "text/plain": [
       "<Figure size 432x288 with 1 Axes>"
      ]
     },
     "metadata": {
      "needs_background": "light"
     },
     "output_type": "display_data"
    }
   ],
   "source": [
    "from pandas.plotting import register_matplotlib_converters\n",
    "register_matplotlib_converters()\n",
    "plt.gca().xaxis.set_major_formatter(mdates.DateFormatter('%m/%d/%Y'))\n",
    "plt.gca().xaxis.set_major_locator(mdates.YearLocator())\n",
    "# Plot\n",
    "plt.plot(data['datetime'], data['z'])\n",
    "plt.gcf().autofmt_xdate()  # 自动旋转日期标记\n",
    "plt.show()\n"
   ]
  },
  {
   "cell_type": "code",
   "execution_count": 60,
   "metadata": {},
   "outputs": [
    {
     "data": {
      "text/plain": [
       "(-8.723199131322334,\n",
       " 3.342182954968699e-14,\n",
       " 41,\n",
       " 14402,\n",
       " {'1%': -3.4308041359474744,\n",
       "  '5%': -2.8617407078308563,\n",
       "  '10%': -2.566876832040158},\n",
       " -87033.26538229328)"
      ]
     },
     "execution_count": 60,
     "metadata": {},
     "output_type": "execute_result"
    }
   ],
   "source": [
    "# z is stationary\n",
    "adfuller(data['z'])"
   ]
  },
  {
   "cell_type": "code",
   "execution_count": 62,
   "metadata": {},
   "outputs": [
    {
     "name": "stdout",
     "output_type": "stream",
     "text": [
      "-8.319691410668448e-11 0.9999999999336195\n"
     ]
    }
   ],
   "source": [
    "z.mean()\n",
    "import scipy.stats\n",
    "t, pval = scipy.stats.ttest_1samp(data['z'], popmean=0.0)\n",
    "print(t, pval)"
   ]
  },
  {
   "cell_type": "code",
   "execution_count": 64,
   "metadata": {},
   "outputs": [],
   "source": [
    "covariance_mat=np.cov(data.iloc[:,6:9])"
   ]
  },
  {
   "cell_type": "code",
   "execution_count": null,
   "metadata": {},
   "outputs": [],
   "source": []
  }
 ],
 "metadata": {
  "kernelspec": {
   "display_name": "Python 3",
   "language": "python",
   "name": "python3"
  },
  "language_info": {
   "codemirror_mode": {
    "name": "ipython",
    "version": 3
   },
   "file_extension": ".py",
   "mimetype": "text/x-python",
   "name": "python",
   "nbconvert_exporter": "python",
   "pygments_lexer": "ipython3",
   "version": "3.7.3"
  }
 },
 "nbformat": 4,
 "nbformat_minor": 2
}
