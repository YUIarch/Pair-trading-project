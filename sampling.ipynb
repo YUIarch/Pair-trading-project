{
 "cells": [
  {
   "cell_type": "code",
   "execution_count": 1,
   "metadata": {},
   "outputs": [],
   "source": [
    "import pandas as pd\n",
    "pd.set_option('display.float_format',lambda x : '%.2f' % x)"
   ]
  },
  {
   "cell_type": "code",
   "execution_count": 2,
   "metadata": {
    "scrolled": true
   },
   "outputs": [
    {
     "data": {
      "text/html": [
       "<div>\n",
       "<style scoped>\n",
       "    .dataframe tbody tr th:only-of-type {\n",
       "        vertical-align: middle;\n",
       "    }\n",
       "\n",
       "    .dataframe tbody tr th {\n",
       "        vertical-align: top;\n",
       "    }\n",
       "\n",
       "    .dataframe thead th {\n",
       "        text-align: right;\n",
       "    }\n",
       "</style>\n",
       "<table border=\"1\" class=\"dataframe\">\n",
       "  <thead>\n",
       "    <tr style=\"text-align: right;\">\n",
       "      <th></th>\n",
       "      <th>unixtime</th>\n",
       "      <th>price</th>\n",
       "    </tr>\n",
       "  </thead>\n",
       "  <tbody>\n",
       "    <tr>\n",
       "      <th>0</th>\n",
       "      <td>1396572190</td>\n",
       "      <td>457.38</td>\n",
       "    </tr>\n",
       "    <tr>\n",
       "      <th>1</th>\n",
       "      <td>1396572196</td>\n",
       "      <td>449.33</td>\n",
       "    </tr>\n",
       "    <tr>\n",
       "      <th>2</th>\n",
       "      <td>1396572243</td>\n",
       "      <td>457.74</td>\n",
       "    </tr>\n",
       "    <tr>\n",
       "      <th>3</th>\n",
       "      <td>1396572249</td>\n",
       "      <td>455.43</td>\n",
       "    </tr>\n",
       "    <tr>\n",
       "      <th>4</th>\n",
       "      <td>1396572303</td>\n",
       "      <td>458.37</td>\n",
       "    </tr>\n",
       "  </tbody>\n",
       "</table>\n",
       "</div>"
      ],
      "text/plain": [
       "     unixtime  price\n",
       "0  1396572190 457.38\n",
       "1  1396572196 449.33\n",
       "2  1396572243 457.74\n",
       "3  1396572249 455.43\n",
       "4  1396572303 458.37"
      ]
     },
     "execution_count": 2,
     "metadata": {},
     "output_type": "execute_result"
    }
   ],
   "source": [
    "stamp=pd.read_csv(\"C:/Users/Bao Yu/Desktop/project/data/processed_data/bitstamp_2.0.csv\",header=0)\n",
    "stamp.head()"
   ]
  },
  {
   "cell_type": "code",
   "execution_count": 3,
   "metadata": {},
   "outputs": [
    {
     "name": "stdout",
     "output_type": "stream",
     "text": [
      "0\n",
      "1000\n",
      "2000\n",
      "3000\n",
      "4000\n",
      "5000\n"
     ]
    },
    {
     "data": {
      "text/html": [
       "<div>\n",
       "<style scoped>\n",
       "    .dataframe tbody tr th:only-of-type {\n",
       "        vertical-align: middle;\n",
       "    }\n",
       "\n",
       "    .dataframe tbody tr th {\n",
       "        vertical-align: top;\n",
       "    }\n",
       "\n",
       "    .dataframe thead th {\n",
       "        text-align: right;\n",
       "    }\n",
       "</style>\n",
       "<table border=\"1\" class=\"dataframe\">\n",
       "  <thead>\n",
       "    <tr style=\"text-align: right;\">\n",
       "      <th></th>\n",
       "      <th>unixtime</th>\n",
       "      <th>price</th>\n",
       "    </tr>\n",
       "  </thead>\n",
       "  <tbody>\n",
       "    <tr>\n",
       "      <th>0</th>\n",
       "      <td>1396572190.00</td>\n",
       "      <td>457.38</td>\n",
       "    </tr>\n",
       "    <tr>\n",
       "      <th>1</th>\n",
       "      <td>1396588190.00</td>\n",
       "      <td>448.15</td>\n",
       "    </tr>\n",
       "    <tr>\n",
       "      <th>2</th>\n",
       "      <td>1396604190.00</td>\n",
       "      <td>450.78</td>\n",
       "    </tr>\n",
       "    <tr>\n",
       "      <th>3</th>\n",
       "      <td>1396620190.00</td>\n",
       "      <td>448.58</td>\n",
       "    </tr>\n",
       "    <tr>\n",
       "      <th>4</th>\n",
       "      <td>1396636190.00</td>\n",
       "      <td>449.00</td>\n",
       "    </tr>\n",
       "  </tbody>\n",
       "</table>\n",
       "</div>"
      ],
      "text/plain": [
       "       unixtime  price\n",
       "0 1396572190.00 457.38\n",
       "1 1396588190.00 448.15\n",
       "2 1396604190.00 450.78\n",
       "3 1396620190.00 448.58\n",
       "4 1396636190.00 449.00"
      ]
     },
     "execution_count": 3,
     "metadata": {},
     "output_type": "execute_result"
    }
   ],
   "source": [
    "stamp_sample = pd.DataFrame(columns=['unixtime','price'])\n",
    "time=stamp.iloc[0].unixtime\n",
    "price=stamp.iloc[0].price\n",
    "stamp_sample=stamp_sample.append(stamp.iloc[0])\n",
    "#stamp_sample=stamp_sample.append({'unixtime':time,\n",
    " #                   'price':price},ignore_index=True)\n",
    "\n",
    "\n",
    "end=stamp.iloc[-1]['unixtime']\n",
    "i=0\n",
    "while(time<=end):\n",
    "    if(i%1000==0):print(i)\n",
    "    time+=16000\n",
    "    if(time in stamp['unixtime']):\n",
    "        stamp_sample=stamp_sample.append(stamp.loc[stamp['unixtime']==time],ignore_index=True)     \n",
    "    else:\n",
    "        index=stamp.iloc[stamp.loc[(time-stamp['unixtime'])>=0].unixtime.argsort()[-1:]].index\n",
    "        stamp_sample=stamp_sample.append(stamp.iloc[index],ignore_index=True)\n",
    "        stamp_sample.iloc[-1,0]=time\n",
    "    i=i+1\n",
    "stamp_sample.head()"
   ]
  },
  {
   "cell_type": "code",
   "execution_count": 4,
   "metadata": {},
   "outputs": [],
   "source": [
    "stamp_sample.to_csv(\"C:/Users/Bao Yu/Desktop/project/data/bitstamp_16000s_sampling.csv\",header=0)"
   ]
  },
  {
   "cell_type": "code",
   "execution_count": 5,
   "metadata": {},
   "outputs": [
    {
     "data": {
      "text/html": [
       "<div>\n",
       "<style scoped>\n",
       "    .dataframe tbody tr th:only-of-type {\n",
       "        vertical-align: middle;\n",
       "    }\n",
       "\n",
       "    .dataframe tbody tr th {\n",
       "        vertical-align: top;\n",
       "    }\n",
       "\n",
       "    .dataframe thead th {\n",
       "        text-align: right;\n",
       "    }\n",
       "</style>\n",
       "<table border=\"1\" class=\"dataframe\">\n",
       "  <thead>\n",
       "    <tr style=\"text-align: right;\">\n",
       "      <th></th>\n",
       "      <th>unixtime</th>\n",
       "      <th>price</th>\n",
       "    </tr>\n",
       "  </thead>\n",
       "  <tbody>\n",
       "    <tr>\n",
       "      <th>0</th>\n",
       "      <td>1396572190</td>\n",
       "      <td>441.50</td>\n",
       "    </tr>\n",
       "    <tr>\n",
       "      <th>1</th>\n",
       "      <td>1396572191</td>\n",
       "      <td>441.50</td>\n",
       "    </tr>\n",
       "    <tr>\n",
       "      <th>2</th>\n",
       "      <td>1396572192</td>\n",
       "      <td>441.50</td>\n",
       "    </tr>\n",
       "    <tr>\n",
       "      <th>3</th>\n",
       "      <td>1396572432</td>\n",
       "      <td>441.50</td>\n",
       "    </tr>\n",
       "    <tr>\n",
       "      <th>4</th>\n",
       "      <td>1396572433</td>\n",
       "      <td>441.50</td>\n",
       "    </tr>\n",
       "  </tbody>\n",
       "</table>\n",
       "</div>"
      ],
      "text/plain": [
       "     unixtime  price\n",
       "0  1396572190 441.50\n",
       "1  1396572191 441.50\n",
       "2  1396572192 441.50\n",
       "3  1396572432 441.50\n",
       "4  1396572433 441.50"
      ]
     },
     "execution_count": 5,
     "metadata": {},
     "output_type": "execute_result"
    }
   ],
   "source": [
    "itbit=pd.read_csv(\"C:/Users/Bao Yu/Desktop/project/data/processed_data/itbit_2.0.csv\",header=0)\n",
    "itbit.head()"
   ]
  },
  {
   "cell_type": "code",
   "execution_count": 6,
   "metadata": {},
   "outputs": [
    {
     "data": {
      "text/plain": [
       "5415.959625"
      ]
     },
     "execution_count": 6,
     "metadata": {},
     "output_type": "execute_result"
    }
   ],
   "source": [
    "(itbit.iloc[-1].unixtime-itbit.iloc[0].unixtime)/16000"
   ]
  },
  {
   "cell_type": "code",
   "execution_count": 7,
   "metadata": {},
   "outputs": [
    {
     "name": "stdout",
     "output_type": "stream",
     "text": [
      "0\n",
      "1000\n",
      "2000\n",
      "3000\n",
      "4000\n",
      "5000\n"
     ]
    },
    {
     "data": {
      "text/html": [
       "<div>\n",
       "<style scoped>\n",
       "    .dataframe tbody tr th:only-of-type {\n",
       "        vertical-align: middle;\n",
       "    }\n",
       "\n",
       "    .dataframe tbody tr th {\n",
       "        vertical-align: top;\n",
       "    }\n",
       "\n",
       "    .dataframe thead th {\n",
       "        text-align: right;\n",
       "    }\n",
       "</style>\n",
       "<table border=\"1\" class=\"dataframe\">\n",
       "  <thead>\n",
       "    <tr style=\"text-align: right;\">\n",
       "      <th></th>\n",
       "      <th>unixtime</th>\n",
       "      <th>price</th>\n",
       "    </tr>\n",
       "  </thead>\n",
       "  <tbody>\n",
       "    <tr>\n",
       "      <th>0</th>\n",
       "      <td>1396572190.00</td>\n",
       "      <td>441.50</td>\n",
       "    </tr>\n",
       "    <tr>\n",
       "      <th>1</th>\n",
       "      <td>1396588190.00</td>\n",
       "      <td>434.17</td>\n",
       "    </tr>\n",
       "    <tr>\n",
       "      <th>2</th>\n",
       "      <td>1396604190.00</td>\n",
       "      <td>442.92</td>\n",
       "    </tr>\n",
       "    <tr>\n",
       "      <th>3</th>\n",
       "      <td>1396620190.00</td>\n",
       "      <td>434.30</td>\n",
       "    </tr>\n",
       "    <tr>\n",
       "      <th>4</th>\n",
       "      <td>1396636190.00</td>\n",
       "      <td>446.00</td>\n",
       "    </tr>\n",
       "  </tbody>\n",
       "</table>\n",
       "</div>"
      ],
      "text/plain": [
       "       unixtime  price\n",
       "0 1396572190.00 441.50\n",
       "1 1396588190.00 434.17\n",
       "2 1396604190.00 442.92\n",
       "3 1396620190.00 434.30\n",
       "4 1396636190.00 446.00"
      ]
     },
     "execution_count": 7,
     "metadata": {},
     "output_type": "execute_result"
    }
   ],
   "source": [
    "itbit_sample = pd.DataFrame(columns=['unixtime','price'])\n",
    "time=itbit.iloc[0].unixtime\n",
    "price=itbit.iloc[0].price\n",
    "itbit_sample=itbit_sample.append(itbit.iloc[0])\n",
    "\n",
    "\n",
    "\n",
    "end=itbit.iloc[-1]['unixtime']\n",
    "i=0\n",
    "while(time<=end):\n",
    "    if(i%1000==0):print(i)\n",
    "    time+=16000\n",
    "    if(time in itbit['unixtime']):\n",
    "        itbit_sample=itbit_sample.append(itbit.loc[itbit['unixtime']==time],ignore_index=True)     \n",
    "    else:\n",
    "        index=itbit.iloc[itbit.loc[(time-itbit['unixtime'])>=0].unixtime.argsort()[-1:]].index\n",
    "        itbit_sample=itbit_sample.append(itbit.iloc[index],ignore_index=True)\n",
    "        itbit_sample.iloc[-1,0]=time\n",
    "    i=i+1\n",
    "itbit_sample.head()"
   ]
  },
  {
   "cell_type": "code",
   "execution_count": 8,
   "metadata": {},
   "outputs": [],
   "source": [
    "itbit_sample.to_csv(\"C:/Users/Bao Yu/Desktop/project/data/itbit_16000s_sampling.csv\",header=0)"
   ]
  },
  {
   "cell_type": "code",
   "execution_count": 10,
   "metadata": {},
   "outputs": [
    {
     "data": {
      "text/html": [
       "<div>\n",
       "<style scoped>\n",
       "    .dataframe tbody tr th:only-of-type {\n",
       "        vertical-align: middle;\n",
       "    }\n",
       "\n",
       "    .dataframe tbody tr th {\n",
       "        vertical-align: top;\n",
       "    }\n",
       "\n",
       "    .dataframe thead th {\n",
       "        text-align: right;\n",
       "    }\n",
       "</style>\n",
       "<table border=\"1\" class=\"dataframe\">\n",
       "  <thead>\n",
       "    <tr style=\"text-align: right;\">\n",
       "      <th></th>\n",
       "      <th>unixtime</th>\n",
       "      <th>price</th>\n",
       "    </tr>\n",
       "  </thead>\n",
       "  <tbody>\n",
       "    <tr>\n",
       "      <th>0</th>\n",
       "      <td>1396572190.00</td>\n",
       "      <td>439.52</td>\n",
       "    </tr>\n",
       "    <tr>\n",
       "      <th>1</th>\n",
       "      <td>1396572207.00</td>\n",
       "      <td>437.58</td>\n",
       "    </tr>\n",
       "    <tr>\n",
       "      <th>2</th>\n",
       "      <td>1396572228.00</td>\n",
       "      <td>437.53</td>\n",
       "    </tr>\n",
       "    <tr>\n",
       "      <th>3</th>\n",
       "      <td>1396572269.00</td>\n",
       "      <td>437.54</td>\n",
       "    </tr>\n",
       "    <tr>\n",
       "      <th>4</th>\n",
       "      <td>1396572309.00</td>\n",
       "      <td>437.54</td>\n",
       "    </tr>\n",
       "  </tbody>\n",
       "</table>\n",
       "</div>"
      ],
      "text/plain": [
       "       unixtime  price\n",
       "0 1396572190.00 439.52\n",
       "1 1396572207.00 437.58\n",
       "2 1396572228.00 437.53\n",
       "3 1396572269.00 437.54\n",
       "4 1396572309.00 437.54"
      ]
     },
     "execution_count": 10,
     "metadata": {},
     "output_type": "execute_result"
    }
   ],
   "source": [
    "btce=pd.read_csv(\"C:/Users/Bao Yu/Desktop/project/data/processed_data/btce_2.0.csv\",header=0)\n",
    "btce=btce.iloc[:,1:]\n",
    "btce.head()"
   ]
  },
  {
   "cell_type": "code",
   "execution_count": 11,
   "metadata": {},
   "outputs": [
    {
     "data": {
      "text/plain": [
       "5415.9874375"
      ]
     },
     "execution_count": 11,
     "metadata": {},
     "output_type": "execute_result"
    }
   ],
   "source": [
    "(btce.iloc[-1].unixtime-btce.iloc[0].unixtime)/16000"
   ]
  },
  {
   "cell_type": "code",
   "execution_count": null,
   "metadata": {},
   "outputs": [
    {
     "name": "stdout",
     "output_type": "stream",
     "text": [
      "0\n",
      "1000\n",
      "2000\n",
      "3000\n",
      "4000\n",
      "5000\n"
     ]
    }
   ],
   "source": [
    "btce_sample = pd.DataFrame(columns=['unixtime','price'])\n",
    "time=btce.iloc[0].unixtime\n",
    "price=btce.iloc[0].price\n",
    "btce_sample=btce_sample.append(btce.iloc[0])\n",
    "\n",
    "\n",
    "end=btce.iloc[-1]['unixtime']\n",
    "i=0\n",
    "while(time<=end):\n",
    "    if(i%1000==0):print(i)\n",
    "    time+=16000\n",
    "    if(time in btce['unixtime']):\n",
    "        btce_sample=btce_sample.append(btce.loc[btce['unixtime']==time],ignore_index=True)     \n",
    "    else:\n",
    "        index=btce.iloc[btce.loc[(time-btce['unixtime'])>=0].unixtime.argsort()[-1:]].index\n",
    "        btce_sample=btce_sample.append(btce.iloc[index],ignore_index=True)\n",
    "        btce_sample.iloc[-1,0]=time\n",
    "    i=i+1\n",
    "btce_sample.head()"
   ]
  },
  {
   "cell_type": "code",
   "execution_count": null,
   "metadata": {},
   "outputs": [],
   "source": [
    "btce_sample.to_csv(\"C:/Users/Bao Yu/Desktop/project/data/btce_16000s_sampling.csv\",header=0)"
   ]
  }
 ],
 "metadata": {
  "kernelspec": {
   "display_name": "Python 3",
   "language": "python",
   "name": "python3"
  },
  "language_info": {
   "codemirror_mode": {
    "name": "ipython",
    "version": 3
   },
   "file_extension": ".py",
   "mimetype": "text/x-python",
   "name": "python",
   "nbconvert_exporter": "python",
   "pygments_lexer": "ipython3",
   "version": "3.7.3"
  }
 },
 "nbformat": 4,
 "nbformat_minor": 2
}
