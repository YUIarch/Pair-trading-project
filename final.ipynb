{
 "cells": [
  {
   "cell_type": "code",
   "execution_count": 1,
   "metadata": {},
   "outputs": [],
   "source": [
    "import pandas as pd\n",
    "data=pd.read_csv(\"C:/Users/Bao Yu/Desktop/project/data/dataset.csv\")"
   ]
  },
  {
   "cell_type": "code",
   "execution_count": 2,
   "metadata": {},
   "outputs": [
    {
     "data": {
      "text/html": [
       "<div>\n",
       "<style scoped>\n",
       "    .dataframe tbody tr th:only-of-type {\n",
       "        vertical-align: middle;\n",
       "    }\n",
       "\n",
       "    .dataframe tbody tr th {\n",
       "        vertical-align: top;\n",
       "    }\n",
       "\n",
       "    .dataframe thead th {\n",
       "        text-align: right;\n",
       "    }\n",
       "</style>\n",
       "<table border=\"1\" class=\"dataframe\">\n",
       "  <thead>\n",
       "    <tr style=\"text-align: right;\">\n",
       "      <th></th>\n",
       "      <th>unixtime</th>\n",
       "      <th>btce_price</th>\n",
       "      <th>itbit_price</th>\n",
       "      <th>stamp_price</th>\n",
       "      <th>datetime</th>\n",
       "      <th>t</th>\n",
       "      <th>log_btce</th>\n",
       "      <th>log_itbit</th>\n",
       "      <th>log_stamp</th>\n",
       "    </tr>\n",
       "  </thead>\n",
       "  <tbody>\n",
       "    <tr>\n",
       "      <th>0</th>\n",
       "      <td>1396572190</td>\n",
       "      <td>439.5230</td>\n",
       "      <td>441.50</td>\n",
       "      <td>457.37723</td>\n",
       "      <td>4/3/2014</td>\n",
       "      <td>0</td>\n",
       "      <td>6.085690</td>\n",
       "      <td>6.090178</td>\n",
       "      <td>6.125508</td>\n",
       "    </tr>\n",
       "    <tr>\n",
       "      <th>1</th>\n",
       "      <td>1396578190</td>\n",
       "      <td>438.9990</td>\n",
       "      <td>441.50</td>\n",
       "      <td>447.54221</td>\n",
       "      <td>4/3/2014</td>\n",
       "      <td>1</td>\n",
       "      <td>6.084497</td>\n",
       "      <td>6.090178</td>\n",
       "      <td>6.103771</td>\n",
       "    </tr>\n",
       "    <tr>\n",
       "      <th>2</th>\n",
       "      <td>1396584190</td>\n",
       "      <td>433.9890</td>\n",
       "      <td>438.87</td>\n",
       "      <td>442.07505</td>\n",
       "      <td>4/4/2014</td>\n",
       "      <td>2</td>\n",
       "      <td>6.073019</td>\n",
       "      <td>6.084203</td>\n",
       "      <td>6.091480</td>\n",
       "    </tr>\n",
       "    <tr>\n",
       "      <th>3</th>\n",
       "      <td>1396590190</td>\n",
       "      <td>425.0000</td>\n",
       "      <td>435.28</td>\n",
       "      <td>442.08631</td>\n",
       "      <td>4/4/2014</td>\n",
       "      <td>3</td>\n",
       "      <td>6.052089</td>\n",
       "      <td>6.075990</td>\n",
       "      <td>6.091505</td>\n",
       "    </tr>\n",
       "    <tr>\n",
       "      <th>4</th>\n",
       "      <td>1396596190</td>\n",
       "      <td>441.1105</td>\n",
       "      <td>444.56</td>\n",
       "      <td>452.57262</td>\n",
       "      <td>4/4/2014</td>\n",
       "      <td>4</td>\n",
       "      <td>6.089295</td>\n",
       "      <td>6.097085</td>\n",
       "      <td>6.114948</td>\n",
       "    </tr>\n",
       "  </tbody>\n",
       "</table>\n",
       "</div>"
      ],
      "text/plain": [
       "     unixtime  btce_price  itbit_price  stamp_price  datetime  t  log_btce  \\\n",
       "0  1396572190    439.5230       441.50    457.37723  4/3/2014  0  6.085690   \n",
       "1  1396578190    438.9990       441.50    447.54221  4/3/2014  1  6.084497   \n",
       "2  1396584190    433.9890       438.87    442.07505  4/4/2014  2  6.073019   \n",
       "3  1396590190    425.0000       435.28    442.08631  4/4/2014  3  6.052089   \n",
       "4  1396596190    441.1105       444.56    452.57262  4/4/2014  4  6.089295   \n",
       "\n",
       "   log_itbit  log_stamp  \n",
       "0   6.090178   6.125508  \n",
       "1   6.090178   6.103771  \n",
       "2   6.084203   6.091480  \n",
       "3   6.075990   6.091505  \n",
       "4   6.097085   6.114948  "
      ]
     },
     "execution_count": 2,
     "metadata": {},
     "output_type": "execute_result"
    }
   ],
   "source": [
    "data=data.iloc[:,1:]\n",
    "data.head()"
   ]
  },
  {
   "cell_type": "code",
   "execution_count": 3,
   "metadata": {},
   "outputs": [],
   "source": [
    "import numpy as np\n",
    "\n",
    "a=np.array([[-0.110061], #ce_1\n",
    "  [-0.0114403]]) # ce_2\n",
    "b=np.array([[-2.0e-6], #ce_1\n",
    "  [-8.812e-7]]) #ce_2\n",
    "beta=np.array([[1,0],\n",
    "     [0,1],\n",
    "     [-0.9930311,-0.9966665]]) # 3*2 matrix(btce_itbit_stamp)"
   ]
  },
  {
   "cell_type": "code",
   "execution_count": 4,
   "metadata": {
    "scrolled": true
   },
   "outputs": [],
   "source": [
    "cons=np.ones((len(data),1))"
   ]
  },
  {
   "cell_type": "code",
   "execution_count": 5,
   "metadata": {},
   "outputs": [],
   "source": [
    "z=cons*a.T+np.mat(data['t']).T*b.T+np.mat(data.loc[:,'log_btce':'log_stamp'])*beta"
   ]
  },
  {
   "cell_type": "code",
   "execution_count": 6,
   "metadata": {},
   "outputs": [
    {
     "data": {
      "text/html": [
       "<div>\n",
       "<style scoped>\n",
       "    .dataframe tbody tr th:only-of-type {\n",
       "        vertical-align: middle;\n",
       "    }\n",
       "\n",
       "    .dataframe tbody tr th {\n",
       "        vertical-align: top;\n",
       "    }\n",
       "\n",
       "    .dataframe thead th {\n",
       "        text-align: right;\n",
       "    }\n",
       "</style>\n",
       "<table border=\"1\" class=\"dataframe\">\n",
       "  <thead>\n",
       "    <tr style=\"text-align: right;\">\n",
       "      <th></th>\n",
       "      <th>unixtime</th>\n",
       "      <th>btce_price</th>\n",
       "      <th>itbit_price</th>\n",
       "      <th>stamp_price</th>\n",
       "      <th>datetime</th>\n",
       "      <th>t</th>\n",
       "      <th>log_btce</th>\n",
       "      <th>log_itbit</th>\n",
       "      <th>log_stamp</th>\n",
       "      <th>z1</th>\n",
       "      <th>z2</th>\n",
       "    </tr>\n",
       "  </thead>\n",
       "  <tbody>\n",
       "    <tr>\n",
       "      <th>0</th>\n",
       "      <td>1396572190</td>\n",
       "      <td>439.5230</td>\n",
       "      <td>441.50</td>\n",
       "      <td>457.37723</td>\n",
       "      <td>4/3/2014</td>\n",
       "      <td>0</td>\n",
       "      <td>6.085690</td>\n",
       "      <td>6.090178</td>\n",
       "      <td>6.125508</td>\n",
       "      <td>-0.107191</td>\n",
       "      <td>-0.026351</td>\n",
       "    </tr>\n",
       "    <tr>\n",
       "      <th>1</th>\n",
       "      <td>1396578190</td>\n",
       "      <td>438.9990</td>\n",
       "      <td>441.50</td>\n",
       "      <td>447.54221</td>\n",
       "      <td>4/3/2014</td>\n",
       "      <td>1</td>\n",
       "      <td>6.084497</td>\n",
       "      <td>6.090178</td>\n",
       "      <td>6.103771</td>\n",
       "      <td>-0.086800</td>\n",
       "      <td>-0.004687</td>\n",
       "    </tr>\n",
       "    <tr>\n",
       "      <th>2</th>\n",
       "      <td>1396584190</td>\n",
       "      <td>433.9890</td>\n",
       "      <td>438.87</td>\n",
       "      <td>442.07505</td>\n",
       "      <td>4/4/2014</td>\n",
       "      <td>2</td>\n",
       "      <td>6.073019</td>\n",
       "      <td>6.084203</td>\n",
       "      <td>6.091480</td>\n",
       "      <td>-0.086075</td>\n",
       "      <td>0.001587</td>\n",
       "    </tr>\n",
       "    <tr>\n",
       "      <th>3</th>\n",
       "      <td>1396590190</td>\n",
       "      <td>425.0000</td>\n",
       "      <td>435.28</td>\n",
       "      <td>442.08631</td>\n",
       "      <td>4/4/2014</td>\n",
       "      <td>3</td>\n",
       "      <td>6.052089</td>\n",
       "      <td>6.075990</td>\n",
       "      <td>6.091505</td>\n",
       "      <td>-0.107032</td>\n",
       "      <td>-0.006653</td>\n",
       "    </tr>\n",
       "    <tr>\n",
       "      <th>4</th>\n",
       "      <td>1396596190</td>\n",
       "      <td>441.1105</td>\n",
       "      <td>444.56</td>\n",
       "      <td>452.57262</td>\n",
       "      <td>4/4/2014</td>\n",
       "      <td>4</td>\n",
       "      <td>6.089295</td>\n",
       "      <td>6.097085</td>\n",
       "      <td>6.114948</td>\n",
       "      <td>-0.093107</td>\n",
       "      <td>-0.008923</td>\n",
       "    </tr>\n",
       "  </tbody>\n",
       "</table>\n",
       "</div>"
      ],
      "text/plain": [
       "     unixtime  btce_price  itbit_price  stamp_price  datetime  t  log_btce  \\\n",
       "0  1396572190    439.5230       441.50    457.37723  4/3/2014  0  6.085690   \n",
       "1  1396578190    438.9990       441.50    447.54221  4/3/2014  1  6.084497   \n",
       "2  1396584190    433.9890       438.87    442.07505  4/4/2014  2  6.073019   \n",
       "3  1396590190    425.0000       435.28    442.08631  4/4/2014  3  6.052089   \n",
       "4  1396596190    441.1105       444.56    452.57262  4/4/2014  4  6.089295   \n",
       "\n",
       "   log_itbit  log_stamp        z1        z2  \n",
       "0   6.090178   6.125508 -0.107191 -0.026351  \n",
       "1   6.090178   6.103771 -0.086800 -0.004687  \n",
       "2   6.084203   6.091480 -0.086075  0.001587  \n",
       "3   6.075990   6.091505 -0.107032 -0.006653  \n",
       "4   6.097085   6.114948 -0.093107 -0.008923  "
      ]
     },
     "execution_count": 6,
     "metadata": {},
     "output_type": "execute_result"
    }
   ],
   "source": [
    "data['z1']=z[:,0]\n",
    "data['z2']=z[:,1]\n",
    "data.head()"
   ]
  },
  {
   "cell_type": "code",
   "execution_count": 7,
   "metadata": {},
   "outputs": [
    {
     "name": "stderr",
     "output_type": "stream",
     "text": [
      "C:\\Users\\Bao Yu\\Anaconda3\\lib\\site-packages\\matplotlib\\cbook\\__init__.py:1402: FutureWarning: Support for multi-dimensional indexing (e.g. `obj[:, None]`) is deprecated and will be removed in a future version.  Convert to a numpy array before indexing instead.\n",
      "  x[:, None]\n",
      "C:\\Users\\Bao Yu\\Anaconda3\\lib\\site-packages\\matplotlib\\axes\\_base.py:276: FutureWarning: Support for multi-dimensional indexing (e.g. `obj[:, None]`) is deprecated and will be removed in a future version.  Convert to a numpy array before indexing instead.\n",
      "  x = x[:, np.newaxis]\n",
      "C:\\Users\\Bao Yu\\Anaconda3\\lib\\site-packages\\matplotlib\\axes\\_base.py:278: FutureWarning: Support for multi-dimensional indexing (e.g. `obj[:, None]`) is deprecated and will be removed in a future version.  Convert to a numpy array before indexing instead.\n",
      "  y = y[:, np.newaxis]\n"
     ]
    },
    {
     "data": {
      "text/plain": [
       "<Figure size 640x480 with 1 Axes>"
      ]
     },
     "metadata": {},
     "output_type": "display_data"
    }
   ],
   "source": [
    "import matplotlib.pyplot as plt\n",
    "\n",
    "import matplotlib.dates as mdates\n",
    "\n",
    "plt.gca().xaxis.set_major_formatter(mdates.DateFormatter('%m/%d/%Y'))\n",
    "plt.gca().xaxis.set_major_locator(mdates.YearLocator())\n",
    "plt.plot(data['datetime'],np.log(data['btce_price']),c='b')\n",
    "plt.plot(data['datetime'],np.log(data['itbit_price']),c='y')\n",
    "plt.plot(data['datetime'],np.log(data['stamp_price']),c='g')\n",
    "plt.legend(['log_btce_price','log_itbit_price','log_stamp_price'],loc='best')\n",
    "plt.show()\n"
   ]
  },
  {
   "cell_type": "code",
   "execution_count": 8,
   "metadata": {
    "scrolled": true
   },
   "outputs": [
    {
     "data": {
      "image/png": "[encoded data removed]",
      "text/plain": [
       "<Figure size 432x288 with 2 Axes>"
      ]
     },
     "metadata": {
      "needs_background": "light"
     },
     "output_type": "display_data"
    }
   ],
   "source": [
    "plt.subplot(1,  2,  1)  \n",
    "plt.plot(data['z1'],c='b')\n",
    "plt.title('1th-order')  \n",
    "\n",
    "plt.subplot(1,  2,  2) \n",
    "plt.plot(data['z2'],c='y')\n",
    "plt.title('2th-order')  \n",
    "\n",
    "plt.show()\n"
   ]
  },
  {
   "cell_type": "code",
   "execution_count": 9,
   "metadata": {},
   "outputs": [
    {
     "name": "stderr",
     "output_type": "stream",
     "text": [
      "C:\\Users\\Bao Yu\\Anaconda3\\lib\\site-packages\\statsmodels\\tools\\_testing.py:19: FutureWarning: pandas.util.testing is deprecated. Use the functions in the public API at pandas.testing instead.\n",
      "  import pandas.util.testing as tm\n"
     ]
    },
    {
     "name": "stdout",
     "output_type": "stream",
     "text": [
      "(-5.848087947239707, 3.6434036387586027e-07, 36, 14407, {'1%': -3.430803978309902, '5%': -2.8617406381674066, '10%': -2.5668767949590245}, -86783.64790901678)\n",
      "(-8.914050372285649, 1.0847311636863247e-14, 40, 14403, {'1%': -3.4308041044112025, '5%': -2.8617406938942964, '10%': -2.5668768246218714}, -87030.90714432995)\n"
     ]
    }
   ],
   "source": [
    "from statsmodels.tsa.stattools import adfuller\n",
    "print(adfuller(data['z1']))\n",
    "\n",
    "print(adfuller(data['z2']))"
   ]
  },
  {
   "cell_type": "code",
   "execution_count": 10,
   "metadata": {},
   "outputs": [],
   "source": [
    "log_return=data.loc[:,'log_btce':'log_stamp'].shift()-data.loc[:,'log_btce':'log_stamp']"
   ]
  },
  {
   "cell_type": "code",
   "execution_count": 11,
   "metadata": {},
   "outputs": [
    {
     "data": {
      "text/html": [
       "<div>\n",
       "<style scoped>\n",
       "    .dataframe tbody tr th:only-of-type {\n",
       "        vertical-align: middle;\n",
       "    }\n",
       "\n",
       "    .dataframe tbody tr th {\n",
       "        vertical-align: top;\n",
       "    }\n",
       "\n",
       "    .dataframe thead th {\n",
       "        text-align: right;\n",
       "    }\n",
       "</style>\n",
       "<table border=\"1\" class=\"dataframe\">\n",
       "  <thead>\n",
       "    <tr style=\"text-align: right;\">\n",
       "      <th></th>\n",
       "      <th>log_btce</th>\n",
       "      <th>log_itbit</th>\n",
       "      <th>log_stamp</th>\n",
       "    </tr>\n",
       "  </thead>\n",
       "  <tbody>\n",
       "    <tr>\n",
       "      <th>1</th>\n",
       "      <td>0.001193</td>\n",
       "      <td>0.000000</td>\n",
       "      <td>0.021738</td>\n",
       "    </tr>\n",
       "    <tr>\n",
       "      <th>2</th>\n",
       "      <td>0.011478</td>\n",
       "      <td>0.005975</td>\n",
       "      <td>0.012291</td>\n",
       "    </tr>\n",
       "    <tr>\n",
       "      <th>3</th>\n",
       "      <td>0.020930</td>\n",
       "      <td>0.008214</td>\n",
       "      <td>-0.000025</td>\n",
       "    </tr>\n",
       "    <tr>\n",
       "      <th>4</th>\n",
       "      <td>-0.037206</td>\n",
       "      <td>-0.021096</td>\n",
       "      <td>-0.023443</td>\n",
       "    </tr>\n",
       "    <tr>\n",
       "      <th>5</th>\n",
       "      <td>0.003883</td>\n",
       "      <td>0.003696</td>\n",
       "      <td>0.013821</td>\n",
       "    </tr>\n",
       "  </tbody>\n",
       "</table>\n",
       "</div>"
      ],
      "text/plain": [
       "   log_btce  log_itbit  log_stamp\n",
       "1  0.001193   0.000000   0.021738\n",
       "2  0.011478   0.005975   0.012291\n",
       "3  0.020930   0.008214  -0.000025\n",
       "4 -0.037206  -0.021096  -0.023443\n",
       "5  0.003883   0.003696   0.013821"
      ]
     },
     "execution_count": 11,
     "metadata": {},
     "output_type": "execute_result"
    }
   ],
   "source": [
    "log_return=log_return.iloc[1:,:]\n",
    "log_return.head()"
   ]
  },
  {
   "cell_type": "code",
   "execution_count": 12,
   "metadata": {},
   "outputs": [
    {
     "data": {
      "text/plain": [
       "log_btce    -0.000052\n",
       "log_itbit   -0.000054\n",
       "log_stamp   -0.000052\n",
       "dtype: float64"
      ]
     },
     "execution_count": 12,
     "metadata": {},
     "output_type": "execute_result"
    }
   ],
   "source": [
    "np.mean(log_return)"
   ]
  },
  {
   "cell_type": "code",
   "execution_count": 13,
   "metadata": {},
   "outputs": [],
   "source": [
    "\n",
    "sigma=np.array([[.00006981,.00004969,.00004277],\n",
    "                [.00004969,.00007191,.00004431],\n",
    "                [.00004277,.00004431 ,.00016066]])\n",
    "\n"
   ]
  },
  {
   "cell_type": "code",
   "execution_count": 14,
   "metadata": {},
   "outputs": [],
   "source": [
    "delta=np.array([[-.01026519,     .00527142], #btce\n",
    "                 [.00987649,    -.03120495], #itbit\n",
    "                 [.00139251,      .1172607]]) #stamp\n",
    "miu=np.zeros((3,1))"
   ]
  },
  {
   "cell_type": "code",
   "execution_count": 15,
   "metadata": {},
   "outputs": [],
   "source": [
    "T=len(data)\n",
    "A_t=np.zeros((2,2))\n",
    "A_t=0.5*(delta.T)*(np.mat(sigma).I)*delta*(T-0)\n",
    "for t in range(1,len(data)):\n",
    "    temp=np.zeros((2,2))\n",
    "    temp=0.5*(delta.T)*(np.mat(sigma).I)*delta*(T-t)\n",
    "    A_t=np.concatenate((A_t,temp),axis=0)"
   ]
  },
  {
   "cell_type": "code",
   "execution_count": 16,
   "metadata": {},
   "outputs": [
    {
     "data": {
      "text/plain": [
       "matrix([[  69331.75621571, -116054.0674564 ],\n",
       "        [-116054.0674564 , 1150225.13910867],\n",
       "        [  69326.9561772 , -116046.03269682],\n",
       "        [-116046.03269682, 1150145.50568724],\n",
       "        [  69322.15613869, -116037.99793723],\n",
       "        [-116037.99793723, 1150065.87226581],\n",
       "        [  69317.35610018, -116029.96317765],\n",
       "        [-116029.96317765, 1149986.23884438],\n",
       "        [  69312.55606167, -116021.92841806],\n",
       "        [-116021.92841806, 1149906.60542296]])"
      ]
     },
     "execution_count": 16,
     "metadata": {},
     "output_type": "execute_result"
    }
   ],
   "source": [
    "A_t[:10]"
   ]
  },
  {
   "cell_type": "code",
   "execution_count": 17,
   "metadata": {},
   "outputs": [],
   "source": [
    "B_t=np.zeros((1,2))\n",
    "B_t=(np.mat(miu).T)*(np.mat(sigma).I)*delta*(T-0)+\\\n",
    "(b.T-0.5*np.mat(sigma.diagonal())*beta)*(delta.T)*(np.mat(sigma).I)*delta*0.5*((T-0)^2)\n",
    "for t in range(1,len(data)):\n",
    "    temp=np.zeros((1,2))\n",
    "    temp=(np.mat(miu).T)*(np.mat(sigma).I)*delta*(T-t)+\\\n",
    "    (b.T-0.5*np.mat(sigma.diagonal())*beta)*(delta.T)*(np.mat(sigma).I)*delta*0.5*((T-t)^2)\n",
    "    B_t=np.concatenate((B_t,temp),axis=0)"
   ]
  },
  {
   "cell_type": "code",
   "execution_count": 18,
   "metadata": {},
   "outputs": [
    {
     "data": {
      "text/plain": [
       "matrix([[-2.04491976, 44.751171  ],\n",
       "        [-2.04421198, 44.73568188],\n",
       "        [-2.04407043, 44.73258406],\n",
       "        [-2.0444951 , 44.74187753],\n",
       "        [-2.04435354, 44.73877971],\n",
       "        [-2.04364576, 44.72329058],\n",
       "        [-2.0435042 , 44.72019276],\n",
       "        [-2.04392887, 44.72948623],\n",
       "        [-2.04378732, 44.72638841],\n",
       "        [-2.04307953, 44.71089929]])"
      ]
     },
     "execution_count": 18,
     "metadata": {},
     "output_type": "execute_result"
    }
   ],
   "source": [
    "B_t[:10]"
   ]
  },
  {
   "cell_type": "code",
   "execution_count": 19,
   "metadata": {},
   "outputs": [],
   "source": [
    "z=data.loc[:,'z1':'z2']"
   ]
  },
  {
   "cell_type": "code",
   "execution_count": 101,
   "metadata": {},
   "outputs": [
    {
     "data": {
      "text/plain": [
       "matrix([[  8790.13763654,  35680.35320802, -44291.50290123]])"
      ]
     },
     "execution_count": 101,
     "metadata": {},
     "output_type": "execute_result"
    }
   ],
   "source": [
    "#LNAM\n",
    "pi_lnam=np.zeros((1,3))\n",
    "pi_lnam=np.mat((np.mat(sigma).I)*(miu+delta*(np.mat(z.iloc[0:1,:]).T))+\\\n",
    "    beta*((-2)*A_t[0:2,:]*np.mat(z.iloc[0:1,:]).T-np.mat(B_t[0:1,:]).T)).T\n",
    "pi_lnam"
   ]
  },
  {
   "cell_type": "code",
   "execution_count": 102,
   "metadata": {},
   "outputs": [],
   "source": [
    "for t in range(1,len(data)):\n",
    "    temp=np.zeros((1,3))\n",
    "    temp=np.mat((np.mat(sigma).I)*(miu+delta*(np.mat(z.iloc[t:1+t,:]).T))+\\\n",
    "    beta*((-2)*A_t[2*t:2*t+2,:]*np.mat(z.iloc[t:1+t,:]).T-np.mat(B_t[t:1+t,:]).T)).T\n",
    "    pi_lnam=np.concatenate((pi_lnam,temp),axis=0)"
   ]
  },
  {
   "cell_type": "code",
   "execution_count": 103,
   "metadata": {},
   "outputs": [
    {
     "data": {
      "text/plain": [
       "matrix([[  8790.13763654,  35680.35320802, -44291.50290123],\n",
       "        [ 10989.50697414,  -9442.95750586,  -1501.17061294],\n",
       "        [ 12346.60173743, -23714.24120308,  11375.36904091],\n",
       "        [ 13345.69472977,  -9622.99659061,  -3661.50160775],\n",
       "        [ 10879.97360624,  -1160.43059901,  -9647.59079069],\n",
       "        [ 11853.09193825, -22061.78850296,  10218.44265819],\n",
       "        [  4526.69808198,  62822.27105564, -67110.09734196],\n",
       "        [ 11623.28994157, -22809.83035886,  11192.21705031],\n",
       "        [  6369.76066961,  34139.18334526, -40351.90227147],\n",
       "        [  7903.32219794,  28018.92943109, -35774.72771593]])"
      ]
     },
     "execution_count": 103,
     "metadata": {},
     "output_type": "execute_result"
    }
   ],
   "source": [
    "pi_lnam[:10]"
   ]
  },
  {
   "cell_type": "code",
   "execution_count": 104,
   "metadata": {},
   "outputs": [
    {
     "data": {
      "text/plain": [
       "57218.5969339517"
      ]
     },
     "execution_count": 104,
     "metadata": {},
     "output_type": "execute_result"
    }
   ],
   "source": [
    "gamma_lnam=pi_lnam.max()/10\n",
    "gamma_lnam"
   ]
  },
  {
   "cell_type": "code",
   "execution_count": 24,
   "metadata": {},
   "outputs": [
    {
     "data": {
      "text/plain": [
       "\"\\na_p=np.array([[8.62e-04],[2.58e-02]])\\nb_p=np.array([[1.14e-06],[-2.41e-06]])\\nmiu_p=np.array([[6.10e-5],[7.52e-05],[7.92e-05]])\\nbeta_p=np.array([[-6.94e-18,1],\\n                [-1,-1],\\n                [1,0]])\\ndelta_p=np.array([[2.93e-03,-9.22e-02],\\n                 [1.35e-01,1.58e-02],\\n                [-1.59e-01,2.17e-02]])\\nsigma_p=np.array([[0.0002275,0.0001717,0.0002067],\\n                [0.0001717,0.0001979,0.0001868],\\n                [0.0002067,0.0001868,0.0002363]])\\nz_p=cons*a_p.T+np.mat(data['t']).T*b_p.T+np.mat(data.loc[:,'log_btce':'log_stamp'])*beta_p\\nT=len(data)\\nA_t_p=np.zeros((2,2))\\nA_t_p=0.5*(delta_p.T)*(np.mat(sigma_p).I)*delta_p*(T-0)\\nfor t in range(1,len(data)):\\n    temp=np.zeros((2,2))\\n    temp=0.5*(delta_p.T)*(np.mat(sigma_p).I)*delta_p*(T-t)\\n    A_t_p=np.concatenate((A_t_p,temp),axis=0)\\nB_t_p=np.zeros((1,2))\\nB_t_p=(np.mat(miu_p).T)*(np.mat(sigma_p).I)*delta_p*(T-0)+(b_p.T-0.5*np.mat(sigma_p.diagonal())*beta_p)*(delta_p.T)*(np.mat(sigma_p).I)*delta_p*0.5*((T-0)^2)\\nfor t in range(1,len(data)):\\n    temp=np.zeros((1,2))\\n    temp=(np.mat(miu_p).T)*(np.mat(sigma_p).I)*delta_p*(T-t)+    (b_p.T-0.5*np.mat(sigma_p.diagonal())*beta_p)*(delta_p.T)*(np.mat(sigma_p).I)*delta_p*0.5*((T-t)^2)\\n    B_t_p=np.concatenate((B_t_p,temp),axis=0)\\npi_t_p=np.zeros((1,3))\\npi_t_p=np.mat((np.mat(sigma_p).I)*(miu_p+delta_p*(np.mat(z_p[0]).T))+    beta_p*((-2)*A_t_p[0:2,:]*np.mat(z_p[0]).T-np.mat(B_t_p[0:1,:]).T)).T\\nfor t in range(1,len(data)):\\n    temp=np.zeros((1,3))\\n    temp=np.mat((np.mat(sigma_p).I)*(miu_p+delta_p*(np.mat(z_p[t]).T))+    beta_p*((-2)*A_t_p[2*t:2*t+2,:]*np.mat(z_p[t]).T-np.mat(B_t_p[t:1+t,:]).T)).T\\n    pi_t_p=np.concatenate((pi_t_p,temp),axis=0)\\ngamma=pi_t_p.max()/10\\ngamma\\n\""
      ]
     },
     "execution_count": 24,
     "metadata": {},
     "output_type": "execute_result"
    }
   ],
   "source": [
    "'''\n",
    "a_p=np.array([[8.62e-04],[2.58e-02]])\n",
    "b_p=np.array([[1.14e-06],[-2.41e-06]])\n",
    "miu_p=np.array([[6.10e-5],[7.52e-05],[7.92e-05]])\n",
    "beta_p=np.array([[-6.94e-18,1],\n",
    "                [-1,-1],\n",
    "                [1,0]])\n",
    "delta_p=np.array([[2.93e-03,-9.22e-02],\n",
    "                 [1.35e-01,1.58e-02],\n",
    "                [-1.59e-01,2.17e-02]])\n",
    "sigma_p=np.array([[0.0002275,0.0001717,0.0002067],\n",
    "                [0.0001717,0.0001979,0.0001868],\n",
    "                [0.0002067,0.0001868,0.0002363]])\n",
    "z_p=cons*a_p.T+np.mat(data['t']).T*b_p.T+np.mat(data.loc[:,'log_btce':'log_stamp'])*beta_p\n",
    "T=len(data)\n",
    "A_t_p=np.zeros((2,2))\n",
    "A_t_p=0.5*(delta_p.T)*(np.mat(sigma_p).I)*delta_p*(T-0)\n",
    "for t in range(1,len(data)):\n",
    "    temp=np.zeros((2,2))\n",
    "    temp=0.5*(delta_p.T)*(np.mat(sigma_p).I)*delta_p*(T-t)\n",
    "    A_t_p=np.concatenate((A_t_p,temp),axis=0)\n",
    "B_t_p=np.zeros((1,2))\n",
    "B_t_p=(np.mat(miu_p).T)*(np.mat(sigma_p).I)*delta_p*(T-0)+\\\n",
    "(b_p.T-0.5*np.mat(sigma_p.diagonal())*beta_p)*(delta_p.T)*(np.mat(sigma_p).I)*delta_p*0.5*((T-0)^2)\n",
    "for t in range(1,len(data)):\n",
    "    temp=np.zeros((1,2))\n",
    "    temp=(np.mat(miu_p).T)*(np.mat(sigma_p).I)*delta_p*(T-t)+\\\n",
    "    (b_p.T-0.5*np.mat(sigma_p.diagonal())*beta_p)*(delta_p.T)*(np.mat(sigma_p).I)*delta_p*0.5*((T-t)^2)\n",
    "    B_t_p=np.concatenate((B_t_p,temp),axis=0)\n",
    "pi_t_p=np.zeros((1,3))\n",
    "pi_t_p=np.mat((np.mat(sigma_p).I)*(miu_p+delta_p*(np.mat(z_p[0]).T))+\\\n",
    "    beta_p*((-2)*A_t_p[0:2,:]*np.mat(z_p[0]).T-np.mat(B_t_p[0:1,:]).T)).T\n",
    "for t in range(1,len(data)):\n",
    "    temp=np.zeros((1,3))\n",
    "    temp=np.mat((np.mat(sigma_p).I)*(miu_p+delta_p*(np.mat(z_p[t]).T))+\\\n",
    "    beta_p*((-2)*A_t_p[2*t:2*t+2,:]*np.mat(z_p[t]).T-np.mat(B_t_p[t:1+t,:]).T)).T\n",
    "    pi_t_p=np.concatenate((pi_t_p,temp),axis=0)\n",
    "gamma=pi_t_p.max()/10\n",
    "gamma\n",
    "'''"
   ]
  },
  {
   "cell_type": "code",
   "execution_count": 105,
   "metadata": {},
   "outputs": [],
   "source": [
    "pi_lnam=pi_lnam*(1/gamma_lnam)"
   ]
  },
  {
   "cell_type": "code",
   "execution_count": 106,
   "metadata": {
    "scrolled": true
   },
   "outputs": [
    {
     "data": {
      "image/png": "[encoded data removed]",
      "text/plain": [
       "<Figure size 432x288 with 1 Axes>"
      ]
     },
     "metadata": {
      "needs_background": "light"
     },
     "output_type": "display_data"
    }
   ],
   "source": [
    "plt.plot(pi_lnam,alpha=0.7)\n",
    "plt.legend(['btce','itbit','stamp'],loc='best')\n",
    "plt.xticks([])\n",
    "plt.savefig('C:/Users/Bao Yu/Desktop/project/report/LNAM_positions.png')"
   ]
  },
  {
   "cell_type": "code",
   "execution_count": 107,
   "metadata": {},
   "outputs": [],
   "source": [
    "p_l_lnam=np.zeros((len(data),1))\n",
    "for i in range(len(data)):\n",
    "    temp=np.mat(data.iloc[i,1:4])*(pi_lnam[i].T)\n",
    "    p_l_lnam[i]=temp"
   ]
  },
  {
   "cell_type": "code",
   "execution_count": 127,
   "metadata": {},
   "outputs": [
    {
     "name": "stdout",
     "output_type": "stream",
     "text": [
      "   btce_price  itbit_price  stamp_price\n",
      "0    439.5230       441.50    457.37723\n",
      "1    438.9990       441.50    447.54221\n",
      "2    433.9890       438.87    442.07505\n",
      "3    425.0000       435.28    442.08631\n",
      "4    441.1105       444.56    452.57262\n"
     ]
    }
   ],
   "source": [
    "data['P&L_LNAM']=p_l_lnam\n",
    "print(data.iloc[:5,1:4])"
   ]
  },
  {
   "cell_type": "code",
   "execution_count": 120,
   "metadata": {},
   "outputs": [
    {
     "name": "stderr",
     "output_type": "stream",
     "text": [
      "C:\\Users\\Bao Yu\\Anaconda3\\lib\\site-packages\\matplotlib\\cbook\\__init__.py:1402: FutureWarning: Support for multi-dimensional indexing (e.g. `obj[:, None]`) is deprecated and will be removed in a future version.  Convert to a numpy array before indexing instead.\n",
      "  x[:, None]\n",
      "C:\\Users\\Bao Yu\\Anaconda3\\lib\\site-packages\\matplotlib\\axes\\_base.py:276: FutureWarning: Support for multi-dimensional indexing (e.g. `obj[:, None]`) is deprecated and will be removed in a future version.  Convert to a numpy array before indexing instead.\n",
      "  x = x[:, np.newaxis]\n",
      "C:\\Users\\Bao Yu\\Anaconda3\\lib\\site-packages\\matplotlib\\axes\\_base.py:278: FutureWarning: Support for multi-dimensional indexing (e.g. `obj[:, None]`) is deprecated and will be removed in a future version.  Convert to a numpy array before indexing instead.\n",
      "  y = y[:, np.newaxis]\n"
     ]
    },
    {
     "data": {
      "image/png": "[encoded data removed]",
      "text/plain": [
       "<Figure size 432x288 with 1 Axes>"
      ]
     },
     "metadata": {
      "needs_background": "light"
     },
     "output_type": "display_data"
    }
   ],
   "source": [
    "plt.gca().xaxis.set_major_formatter(mdates.DateFormatter('%m/%d/%Y'))\n",
    "plt.gca().xaxis.set_major_locator(mdates.YearLocator())\n",
    "plt.plot(data.loc[:,'datetime'],data.loc[:,'P&L_LNAM'],c='b')\n",
    "\n",
    "plt.legend(['Profit or Loss by LNAM'],loc='best')\n",
    "plt.savefig('C:/Users/Bao Yu/Desktop/project/report/P&L_lnam.png')\n",
    "plt.show()"
   ]
  },
  {
   "cell_type": "code",
   "execution_count": 64,
   "metadata": {},
   "outputs": [
    {
     "data": {
      "text/plain": [
       "matrix([[  8788.12911848,  35725.88595749, -44334.88934639]])"
      ]
     },
     "execution_count": 64,
     "metadata": {},
     "output_type": "execute_result"
    }
   ],
   "source": [
    "# NAM\n",
    "\n",
    "pi_nam=np.zeros((1,3))\n",
    "pi_nam=np.mat((np.eye(3)-beta*np.mat(delta.T)*T)*(np.mat(sigma).I)*(miu+delta*(np.mat(z.iloc[0:1,:]).T))-\\\n",
    "        beta*np.mat(delta.T)*(np.mat(sigma).I)*delta*b*(T^2)/2).T\n",
    "pi_nam"
   ]
  },
  {
   "cell_type": "code",
   "execution_count": 67,
   "metadata": {},
   "outputs": [],
   "source": [
    "for t in range(1,len(data)):\n",
    "    temp=np.zeros((1,3))\n",
    "    temp=np.mat((np.eye(3)-beta*np.mat(delta.T)*(T-t)*(np.mat(sigma).I)*(miu+delta*(np.mat(z.iloc[t:1+t,:]).T))-\\\n",
    "        beta*np.mat(delta.T)*(np.mat(sigma).I)*delta*b*((T-t)^2)/2)).T\n",
    "    pi_nam= np.concatenate((pi_nam,temp),axis=0)\n",
    "\n",
    "gamma_nam=pi_nam.max()/10\n",
    "pi_nam=pi_nam*(1/gamma_nam)"
   ]
  },
  {
   "cell_type": "code",
   "execution_count": 68,
   "metadata": {},
   "outputs": [
    {
     "data": {
      "image/png": "[encoded data removed]",
      "text/plain": [
       "<Figure size 432x288 with 1 Axes>"
      ]
     },
     "metadata": {
      "needs_background": "light"
     },
     "output_type": "display_data"
    }
   ],
   "source": [
    "plt.plot(pi_nam,alpha=0.7)\n",
    "plt.legend(['btce','itbit','stamp'],loc='best')\n",
    "plt.xticks([])\n",
    "plt.savefig('C:/Users/Bao Yu/Desktop/project/report/NAM_positions.png')"
   ]
  },
  {
   "cell_type": "code",
   "execution_count": 122,
   "metadata": {},
   "outputs": [
    {
     "data": {
      "image/png": "[encoded data removed]",
      "text/plain": [
       "<Figure size 432x288 with 1 Axes>"
      ]
     },
     "metadata": {
      "needs_background": "light"
     },
     "output_type": "display_data"
    }
   ],
   "source": [
    "p_l_nam=np.zeros((len(data),1))\n",
    "for i in range(len(data)):\n",
    "    temp=np.mat(data.iloc[i,1:4])*(pi_nam[i].T)\n",
    "    p_l_nam[i]=temp\n",
    "data['P&L_NAM']=p_l_nam\n",
    "plt.gca().xaxis.set_major_formatter(mdates.DateFormatter('%m/%d/%Y'))\n",
    "plt.gca().xaxis.set_major_locator(mdates.YearLocator())\n",
    "plt.plot(data.loc[:,'datetime'],data.loc[:,'P&L_NAM'],c='b')\n",
    "\n",
    "plt.legend(['Profit or Loss by NAM'],loc='best')\n",
    "plt.savefig('C:/Users/Bao Yu/Desktop/project/report/P&L_nam.png')\n",
    "plt.show()"
   ]
  },
  {
   "cell_type": "code",
   "execution_count": 76,
   "metadata": {},
   "outputs": [],
   "source": [
    "#NAMIC\n",
    "\n",
    "pi_namic=np.zeros((1,3))\n",
    "pi_namic=np.mat(((beta*(beta.T*(np.mat(sigma).I)*beta).I)*beta.T-beta*(np.mat(delta.T))*\\\n",
    "          (np.mat(sigma).I)*T)*(np.mat(miu)+delta*(np.mat(z.iloc[0:1,:]).T))-\\\n",
    "            beta*np.mat(delta.T)*(np.mat(sigma).I)*delta*b*(T^2)/2).T"
   ]
  },
  {
   "cell_type": "code",
   "execution_count": 98,
   "metadata": {},
   "outputs": [],
   "source": [
    "for t in range(1,len(data)):\n",
    "    temp=np.zeros((1,3))\n",
    "    temp=np.mat(((beta*(beta.T*(np.mat(sigma).I)*beta).I)*beta.T-beta*(np.mat(delta.T))*(np.mat(sigma).I)*(T-t))*(np.mat(miu)+\\\n",
    "            delta*(np.mat(z.iloc[t:1+t,:]).T))-\\\n",
    "            beta*np.mat(delta.T)*(np.mat(sigma).I)*delta*b*((T-t)^2)/2).T\n",
    "    pi_namic= np.concatenate((pi_namic,temp),axis=0)\n",
    "\n",
    "gamma_namic=pi_namic.max()/10\n",
    "pi_namic=pi_namic*(1/gamma_namic)"
   ]
  },
  {
   "cell_type": "code",
   "execution_count": 99,
   "metadata": {},
   "outputs": [
    {
     "data": {
      "image/png": "[encoded data removed]",
      "text/plain": [
       "<Figure size 432x288 with 1 Axes>"
      ]
     },
     "metadata": {
      "needs_background": "light"
     },
     "output_type": "display_data"
    }
   ],
   "source": [
    "plt.plot(pi_namic,alpha=0.7)\n",
    "plt.legend(['btce','itbit','stamp'],loc='best')\n",
    "plt.xticks([])\n",
    "plt.savefig('C:/Users/Bao Yu/Desktop/project/report/NAMIC_positions.png')"
   ]
  },
  {
   "cell_type": "code",
   "execution_count": 91,
   "metadata": {},
   "outputs": [
    {
     "data": {
      "image/png": "[encoded data removed]",
      "text/plain": [
       "<Figure size 432x288 with 1 Axes>"
      ]
     },
     "metadata": {
      "needs_background": "light"
     },
     "output_type": "display_data"
    }
   ],
   "source": [
    "p_l_namic=np.zeros((len(data),1))\n",
    "for i in range(len(data)):\n",
    "    temp=np.mat(data.iloc[i,1:4])*(pi_namic[i].T)\n",
    "    p_l_namic[i]=temp\n",
    "data['P&L_NAMIC']=p_l_namic\n",
    "plt.gca().xaxis.set_major_formatter(mdates.DateFormatter('%m/%d/%Y'))\n",
    "plt.gca().xaxis.set_major_locator(mdates.YearLocator())\n",
    "plt.plot(data.loc[:,'datetime'],data.loc[:,'P&L_NAMIC'],c='b')\n",
    "\n",
    "plt.legend(['Profit or Loss by NAMIC'],loc='best')\n",
    "plt.savefig('C:/Users/Bao Yu/Desktop/project/report/P&L_namic.png')\n",
    "plt.show()"
   ]
  },
  {
   "cell_type": "code",
   "execution_count": 92,
   "metadata": {},
   "outputs": [
    {
     "data": {
      "text/plain": [
       "matrix([[ 1.10113379e-07,  8.49608735e-08, -1.94023666e-07]])"
      ]
     },
     "execution_count": 92,
     "metadata": {},
     "output_type": "execute_result"
    }
   ],
   "source": [
    "# TINAMIC\n",
    "pi_tinamic=np.zeros((1,3))\n",
    "pi_tinamic=np.mat(beta*((beta.T*(np.mat(sigma).I)*beta).I)*beta.T*\\\n",
    "            (np.mat(miu)+delta*(np.mat(z.iloc[0:1,:]).T))).T\n",
    "pi_tinamic"
   ]
  },
  {
   "cell_type": "code",
   "execution_count": 93,
   "metadata": {},
   "outputs": [],
   "source": [
    "for t in range(1,len(data)):\n",
    "    temp=np.zeros((1,3))\n",
    "    temp=np.mat(beta*((beta.T*(np.mat(sigma).I)*beta).I)*beta.T*\\\n",
    "        (np.mat(miu)+delta*(np.mat(z.iloc[t:t+1,:]).T))).T\n",
    "    pi_tinamic= np.concatenate((pi_tinamic,temp),axis=0)\n",
    "\n",
    "gamma_tinamic=pi_tinamic.max()/10\n",
    "pi_tinamic=pi_tinamic*(1/gamma_tinamic)"
   ]
  },
  {
   "cell_type": "code",
   "execution_count": 94,
   "metadata": {},
   "outputs": [
    {
     "data": {
      "image/png": "[encoded data removed]",
      "text/plain": [
       "<Figure size 432x288 with 1 Axes>"
      ]
     },
     "metadata": {
      "needs_background": "light"
     },
     "output_type": "display_data"
    }
   ],
   "source": [
    "plt.plot(pi_tinamic,alpha=0.7)\n",
    "plt.legend(['btce','itbit','stamp'],loc='best')\n",
    "plt.xticks([])\n",
    "plt.savefig('C:/Users/Bao Yu/Desktop/project/report/TINAMIC_positions.png')"
   ]
  },
  {
   "cell_type": "code",
   "execution_count": 95,
   "metadata": {
    "scrolled": true
   },
   "outputs": [
    {
     "data": {
      "image/png": "[encoded data removed]",
      "text/plain": [
       "<Figure size 432x288 with 1 Axes>"
      ]
     },
     "metadata": {
      "needs_background": "light"
     },
     "output_type": "display_data"
    }
   ],
   "source": [
    "p_l_tinamic=np.zeros((len(data),1))\n",
    "for i in range(len(data)):\n",
    "    temp=np.mat(data.iloc[i,1:4])*(pi_tinamic[i].T)\n",
    "    p_l_tinamic[i]=temp\n",
    "data['P&L_TINAMIC']=p_l_namic\n",
    "plt.gca().xaxis.set_major_formatter(mdates.DateFormatter('%m/%d/%Y'))\n",
    "plt.gca().xaxis.set_major_locator(mdates.YearLocator())\n",
    "plt.plot(data.loc[:,'datetime'],data.loc[:,'P&L_TINAMIC'],c='b')\n",
    "\n",
    "plt.legend(['Profit or Loss by NAMIC'],loc='best')\n",
    "plt.savefig('C:/Users/Bao Yu/Desktop/project/report/P&L_tinamic.png')\n",
    "plt.show()"
   ]
  },
  {
   "cell_type": "code",
   "execution_count": 118,
   "metadata": {},
   "outputs": [
    {
     "data": {
      "image/png": "[encoded data removed]",
      "text/plain": [
       "<Figure size 432x288 with 4 Axes>"
      ]
     },
     "metadata": {
      "needs_background": "light"
     },
     "output_type": "display_data"
    }
   ],
   "source": [
    "plt.subplot(2,  2,  1)  \n",
    "plt.plot(pi_lnam,alpha=0.7)\n",
    "plt.title('LNAM')  \n",
    "\n",
    "plt.subplot(2,  2,  2) \n",
    "plt.plot(pi_nam,alpha=0.7)\n",
    "plt.title('NAM')\n",
    "\n",
    "plt.subplot(2,  2,  3) \n",
    "plt.plot(pi_namic,alpha=0.7)\n",
    "plt.title('NAMIC')\n",
    "\n",
    "plt.subplot(2,  2,  4) \n",
    "plt.plot(pi_tinamic,alpha=0.7)\n",
    "plt.title('TINAMIC')\n",
    "plt.subplots_adjust(wspace =0.2, hspace =0.5)#调整子图间距\n",
    "plt.savefig('C:/Users/Bao Yu/Desktop/project/report/positions_compare.png')\n",
    "plt.show()\n"
   ]
  },
  {
   "cell_type": "code",
   "execution_count": 125,
   "metadata": {},
   "outputs": [
    {
     "data": {
      "image/png": "[encoded data removed]",
      "text/plain": [
       "<Figure size 432x288 with 4 Axes>"
      ]
     },
     "metadata": {
      "needs_background": "light"
     },
     "output_type": "display_data"
    }
   ],
   "source": [
    "plt.gca().xaxis.set_major_formatter(mdates.DateFormatter('%m/%d/%Y'))\n",
    "plt.gca().xaxis.set_major_locator(mdates.YearLocator())\n",
    "\n",
    "plt.subplot(2,  2,  1)  \n",
    "plt.plot(data.loc[:,'P&L_LNAM'],c='b')\n",
    "plt.title('LNAM')  \n",
    "\n",
    "plt.subplot(2,  2,  2) \n",
    "plt.plot(data.loc[:,'P&L_NAM'],c='b')\n",
    "plt.title('NAM')\n",
    "\n",
    "plt.subplot(2,  2,  3) \n",
    "plt.plot(data.loc[:,'P&L_NAMIC'],c='b')\n",
    "plt.title('NAMIC')\n",
    "\n",
    "plt.subplot(2,  2,  4) \n",
    "plt.plot(data.loc[:,'P&L_TINAMIC'],c='b')\n",
    "plt.title('TINAMIC')\n",
    "plt.subplots_adjust(wspace =0.2, hspace =0.5)#调整子图间距\n",
    "plt.savefig('C:/Users/Bao Yu/Desktop/project/report/P&L_compare.png')\n",
    "plt.show()"
   ]
  }
 ],
 "metadata": {
  "kernelspec": {
   "display_name": "Python 3",
   "language": "python",
   "name": "python3"
  },
  "language_info": {
   "codemirror_mode": {
    "name": "ipython",
    "version": 3
   },
   "file_extension": ".py",
   "mimetype": "text/x-python",
   "name": "python",
   "nbconvert_exporter": "python",
   "pygments_lexer": "ipython3",
   "version": "3.7.3"
  }
 },
 "nbformat": 4,
 "nbformat_minor": 2
}
