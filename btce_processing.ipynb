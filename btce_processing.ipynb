{
 "cells": [
  {
   "cell_type": "code",
   "execution_count": 1,
   "metadata": {},
   "outputs": [],
   "source": [
    "import numpy as np\n",
    "import pandas as pd"
   ]
  },
  {
   "cell_type": "code",
   "execution_count": 2,
   "metadata": {},
   "outputs": [],
   "source": [
    "btce=pd.read_csv(\"C:/Users/Bao Yu/Desktop/project/data/btceUSD_new.csv\",header=0)\n",
    "btce=btce.iloc[:,1:]"
   ]
  },
  {
   "cell_type": "code",
   "execution_count": 24,
   "metadata": {},
   "outputs": [
    {
     "name": "stdout",
     "output_type": "stream",
     "text": [
      "17004268\n"
     ]
    }
   ],
   "source": [
    "list_s=list(btce['unixtime'].astype(str))\n",
    "\n",
    "inx1 = [i for i, item in enumerate(list_s) if item.startswith('1483228')]\n",
    "print(inx1[0])"
   ]
  },
  {
   "cell_type": "code",
   "execution_count": 25,
   "metadata": {},
   "outputs": [
    {
     "data": {
      "text/plain": [
       "1483228028.0"
      ]
     },
     "execution_count": 25,
     "metadata": {},
     "output_type": "execute_result"
    }
   ],
   "source": [
    "btce.iloc[inx1[0]].unixtime"
   ]
  },
  {
   "cell_type": "code",
   "execution_count": 41,
   "metadata": {
    "scrolled": false
   },
   "outputs": [
    {
     "name": "stdout",
     "output_type": "stream",
     "text": [
      "16500000\n",
      "16505000\n",
      "16510000\n",
      "16515000\n",
      "16520000\n",
      "16525000\n",
      "16530000\n",
      "16535000\n",
      "16540000\n",
      "16545000\n",
      "16550000\n",
      "16555000\n",
      "16560000\n",
      "16565000\n",
      "16570000\n",
      "16575000\n",
      "16580000\n",
      "16585000\n",
      "16590000\n",
      "16595000\n",
      "16600000\n",
      "16605000\n",
      "16610000\n",
      "16615000\n",
      "16620000\n",
      "16625000\n",
      "16630000\n",
      "16635000\n",
      "16640000\n",
      "16645000\n",
      "16650000\n",
      "16655000\n",
      "16660000\n",
      "16665000\n",
      "16670000\n",
      "16675000\n",
      "16680000\n",
      "16685000\n",
      "16690000\n",
      "16695000\n",
      "16700000\n",
      "16705000\n",
      "16710000\n",
      "16715000\n",
      "16720000\n",
      "16725000\n",
      "16730000\n",
      "16735000\n",
      "16740000\n",
      "16745000\n",
      "                 price\n",
      "unixtime           NaN\n",
      "1480132245.0  739.6040\n",
      "1480132259.0  737.3895\n",
      "1480132273.0  737.0000\n",
      "1480132294.0  737.0000\n"
     ]
    }
   ],
   "source": [
    "btce_new = pd.DataFrame(index=['unixtime'],columns=['price'])\n",
    "\n",
    "time=btce.iloc[16500000].unixtime\n",
    "totalprice=btce.iloc[16500000].price\n",
    "freq=1\n",
    "for i in range(16500000,16750000):#inx1[0]+1):\n",
    "    if(i%5000==0):print(i)\n",
    "    if(btce.iloc[i]['unixtime']==time):\n",
    "        freq+=1\n",
    "        totalprice+=btce.iloc[i]['price']\n",
    "        #print(freq)\n",
    "        #print(totalprice)\n",
    "    else:\n",
    "        btce_new.loc[time]=totalprice/freq\n",
    "        time=btce.iloc[i]['unixtime']\n",
    "        totalprice=btce.iloc[i]['price']\n",
    "        freq=1\n",
    "print(btce_new.head())"
   ]
  },
  {
   "cell_type": "code",
   "execution_count": 42,
   "metadata": {},
   "outputs": [],
   "source": [
    "btce_new.to_csv(\"C:/Users/Bao Yu/Desktop/project/data/btce_1650w_1675w.csv\")"
   ]
  }
 ],
 "metadata": {
  "kernelspec": {
   "display_name": "Python 3",
   "language": "python",
   "name": "python3"
  },
  "language_info": {
   "codemirror_mode": {
    "name": "ipython",
    "version": 3
   },
   "file_extension": ".py",
   "mimetype": "text/x-python",
   "name": "python",
   "nbconvert_exporter": "python",
   "pygments_lexer": "ipython3",
   "version": "3.7.3"
  }
 },
 "nbformat": 4,
 "nbformat_minor": 2
}
