{
 "cells": [
  {
   "cell_type": "code",
   "execution_count": 1,
   "metadata": {},
   "outputs": [],
   "source": [
    "import pandas as pd\n",
    "import numpy as np"
   ]
  },
  {
   "cell_type": "code",
   "execution_count": 2,
   "metadata": {},
   "outputs": [
    {
     "name": "stdout",
     "output_type": "stream",
     "text": [
      "     unixtime      price    amount\n",
      "0  1389118697  874.67040  0.010691\n",
      "1  1389118703  883.32614  0.010638\n",
      "2  1389118711  892.06753  0.010586\n",
      "3  1389118871  883.23085  0.010745\n",
      "4  1389118879  874.48165  0.010799\n"
     ]
    }
   ],
   "source": [
    "bitstamp=pd.read_csv('C:/Users/Bao Yu/Desktop/project/data/original_data/bitstampUSD.csv',names=['unixtime','price','amount'])\n",
    "print(bitstamp.head())"
   ]
  },
  {
   "cell_type": "code",
   "execution_count": 3,
   "metadata": {},
   "outputs": [],
   "source": [
    "btce=pd.read_csv('C:/Users/Bao Yu/Desktop/project/data/original_data/btceUSD.csv',names=['unixtime','price','amount'])\n",
    "itbit=pd.read_csv('C:/Users/Bao Yu/Desktop/project/data/original_data/itbitUSD.csv',names=['unixtime','price','amount'])"
   ]
  },
  {
   "cell_type": "code",
   "execution_count": 4,
   "metadata": {},
   "outputs": [
    {
     "data": {
      "text/plain": [
       "37714411"
      ]
     },
     "execution_count": 4,
     "metadata": {},
     "output_type": "execute_result"
    }
   ],
   "source": [
    "len(bitstamp)+len(btce)+len(itbit)"
   ]
  },
  {
   "cell_type": "code",
   "execution_count": 4,
   "metadata": {},
   "outputs": [],
   "source": [
    "set_bitstamp=set(bitstamp['unixtime'])\n",
    "set_btce=set(btce['unixtime'])\n",
    "set_itbit=set(itbit['unixtime'])"
   ]
  },
  {
   "cell_type": "code",
   "execution_count": 5,
   "metadata": {},
   "outputs": [],
   "source": [
    "temp=list(set_bitstamp.intersection(set_btce))"
   ]
  },
  {
   "cell_type": "code",
   "execution_count": 6,
   "metadata": {},
   "outputs": [
    {
     "name": "stdout",
     "output_type": "stream",
     "text": [
      "1396572190\n"
     ]
    }
   ],
   "source": [
    "for x in temp:\n",
    "    if (x in set_itbit):\n",
    "        print(x)\n",
    "        break"
   ]
  },
  {
   "cell_type": "code",
   "execution_count": 7,
   "metadata": {},
   "outputs": [],
   "source": [
    "a = bitstamp[(bitstamp['unixtime']==1396572190)].index.tolist()\n",
    "bitstamp=bitstamp.iloc[a[0]:,:2]\n"
   ]
  },
  {
   "cell_type": "code",
   "execution_count": 8,
   "metadata": {},
   "outputs": [],
   "source": [
    "b = itbit[(itbit['unixtime']==1396572190)].index.tolist()\n",
    "itbit=itbit.iloc[b[0]:,:2]\n",
    "\n",
    "\n",
    "c = btce[(btce['unixtime']==1396572190)].index.tolist()\n",
    "btce=btce.iloc[c[0]:,:2]\n"
   ]
  },
  {
   "cell_type": "code",
   "execution_count": 9,
   "metadata": {},
   "outputs": [
    {
     "name": "stdout",
     "output_type": "stream",
     "text": [
      "         unixtime  price\n",
      "13203  1396572190  441.5\n",
      "13204  1396572191  441.5\n",
      "13205  1396572191  441.5\n",
      "13206  1396572191  441.5\n",
      "13207  1396572192  441.5\n",
      "------------\n",
      "            unixtime    price\n",
      "11760580  1396572190  439.523\n",
      "11760581  1396572207  437.600\n",
      "11760582  1396572207  437.600\n",
      "11760583  1396572207  437.534\n",
      "11760584  1396572228  437.534\n",
      "------------\n",
      "         unixtime      price\n",
      "18652  1396572190  461.96339\n",
      "18653  1396572190  457.39399\n",
      "18654  1396572190  452.77431\n",
      "18655  1396572196  449.32669\n",
      "18656  1396572243  455.48847\n"
     ]
    }
   ],
   "source": [
    "print(itbit.head())\n",
    "print(\"------------\")\n",
    "print(btce.head())\n",
    "print(\"------------\")\n",
    "print(bitstamp.head())"
   ]
  },
  {
   "cell_type": "code",
   "execution_count": 10,
   "metadata": {},
   "outputs": [],
   "source": [
    "btce.to_csv('C:/Users/Bao Yu/Desktop/project/data/btceUSD_new.csv')\n",
    "itbit.to_csv('C:/Users/Bao Yu/Desktop/project/data/itbitUSD_new.csv')\n",
    "bitstamp.to_csv('C:/Users/Bao Yu/Desktop/project/data/bitstamp_new.csv')"
   ]
  }
 ],
 "metadata": {
  "kernelspec": {
   "display_name": "Python 3",
   "language": "python",
   "name": "python3"
  },
  "language_info": {
   "codemirror_mode": {
    "name": "ipython",
    "version": 3
   },
   "file_extension": ".py",
   "mimetype": "text/x-python",
   "name": "python",
   "nbconvert_exporter": "python",
   "pygments_lexer": "ipython3",
   "version": "3.7.3"
  }
 },
 "nbformat": 4,
 "nbformat_minor": 2
}
