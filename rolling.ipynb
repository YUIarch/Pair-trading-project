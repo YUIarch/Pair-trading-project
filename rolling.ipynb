{
 "cells": [
  {
   "cell_type": "code",
   "execution_count": 8,
   "metadata": {},
   "outputs": [],
   "source": [
    "import pandas as pd\n",
    "import numpy as np\n",
    "import matplotlib.pyplot as plt                  # 绘图\n",
    "import seaborn as sns                            # 更多绘图功能\n",
    "sns.set()"
   ]
  },
  {
   "cell_type": "code",
   "execution_count": 9,
   "metadata": {},
   "outputs": [],
   "source": [
    "import statsmodels.formula.api as smf            # 数理统计\n",
    "import statsmodels.tsa.api as smt\n",
    "import statsmodels.api as sm\n",
    "import scipy.stats as scs\n",
    "import warnings                                  # 勿扰模式\n",
    "warnings.filterwarnings('ignore')"
   ]
  },
  {
   "cell_type": "code",
   "execution_count": 26,
   "metadata": {},
   "outputs": [
    {
     "data": {
      "text/html": [
       "<div>\n",
       "<style scoped>\n",
       "    .dataframe tbody tr th:only-of-type {\n",
       "        vertical-align: middle;\n",
       "    }\n",
       "\n",
       "    .dataframe tbody tr th {\n",
       "        vertical-align: top;\n",
       "    }\n",
       "\n",
       "    .dataframe thead th {\n",
       "        text-align: right;\n",
       "    }\n",
       "</style>\n",
       "<table border=\"1\" class=\"dataframe\">\n",
       "  <thead>\n",
       "    <tr style=\"text-align: right;\">\n",
       "      <th></th>\n",
       "      <th>unixtime</th>\n",
       "      <th>itbit_price</th>\n",
       "      <th>btce_price</th>\n",
       "      <th>stamp_price</th>\n",
       "      <th>datetime</th>\n",
       "      <th>t</th>\n",
       "      <th>log_btce</th>\n",
       "      <th>log_itbit</th>\n",
       "      <th>log_stamp</th>\n",
       "    </tr>\n",
       "  </thead>\n",
       "  <tbody>\n",
       "    <tr>\n",
       "      <th>0</th>\n",
       "      <td>1396572190</td>\n",
       "      <td>441.50</td>\n",
       "      <td>439.5230</td>\n",
       "      <td>457.37723</td>\n",
       "      <td>4/3/2014</td>\n",
       "      <td>0</td>\n",
       "      <td>6.085690</td>\n",
       "      <td>6.090178</td>\n",
       "      <td>6.125508</td>\n",
       "    </tr>\n",
       "    <tr>\n",
       "      <th>1</th>\n",
       "      <td>1396578190</td>\n",
       "      <td>441.50</td>\n",
       "      <td>438.9990</td>\n",
       "      <td>447.54221</td>\n",
       "      <td>4/3/2014</td>\n",
       "      <td>1</td>\n",
       "      <td>6.084497</td>\n",
       "      <td>6.090178</td>\n",
       "      <td>6.103771</td>\n",
       "    </tr>\n",
       "    <tr>\n",
       "      <th>2</th>\n",
       "      <td>1396584190</td>\n",
       "      <td>438.87</td>\n",
       "      <td>433.9890</td>\n",
       "      <td>442.07505</td>\n",
       "      <td>4/4/2014</td>\n",
       "      <td>2</td>\n",
       "      <td>6.073019</td>\n",
       "      <td>6.084203</td>\n",
       "      <td>6.091480</td>\n",
       "    </tr>\n",
       "    <tr>\n",
       "      <th>3</th>\n",
       "      <td>1396590190</td>\n",
       "      <td>435.28</td>\n",
       "      <td>425.0000</td>\n",
       "      <td>442.08631</td>\n",
       "      <td>4/4/2014</td>\n",
       "      <td>3</td>\n",
       "      <td>6.052089</td>\n",
       "      <td>6.075990</td>\n",
       "      <td>6.091505</td>\n",
       "    </tr>\n",
       "    <tr>\n",
       "      <th>4</th>\n",
       "      <td>1396596190</td>\n",
       "      <td>444.56</td>\n",
       "      <td>441.1105</td>\n",
       "      <td>452.57262</td>\n",
       "      <td>4/4/2014</td>\n",
       "      <td>4</td>\n",
       "      <td>6.089295</td>\n",
       "      <td>6.097085</td>\n",
       "      <td>6.114948</td>\n",
       "    </tr>\n",
       "  </tbody>\n",
       "</table>\n",
       "</div>"
      ],
      "text/plain": [
       "     unixtime  itbit_price  btce_price  stamp_price  datetime  t  log_btce  \\\n",
       "0  1396572190       441.50    439.5230    457.37723  4/3/2014  0  6.085690   \n",
       "1  1396578190       441.50    438.9990    447.54221  4/3/2014  1  6.084497   \n",
       "2  1396584190       438.87    433.9890    442.07505  4/4/2014  2  6.073019   \n",
       "3  1396590190       435.28    425.0000    442.08631  4/4/2014  3  6.052089   \n",
       "4  1396596190       444.56    441.1105    452.57262  4/4/2014  4  6.089295   \n",
       "\n",
       "   log_itbit  log_stamp  \n",
       "0   6.090178   6.125508  \n",
       "1   6.090178   6.103771  \n",
       "2   6.084203   6.091480  \n",
       "3   6.075990   6.091505  \n",
       "4   6.097085   6.114948  "
      ]
     },
     "execution_count": 26,
     "metadata": {},
     "output_type": "execute_result"
    }
   ],
   "source": [
    "data=pd.read_csv('C:/Users/Bao Yu/Desktop/project/data/dataset.csv')\n",
    "data=data.iloc[:,1:]\n",
    "data.head()"
   ]
  },
  {
   "cell_type": "code",
   "execution_count": 39,
   "metadata": {},
   "outputs": [
    {
     "data": {
      "text/plain": [
       "const        0.504631\n",
       "t           -0.000022\n",
       "log_btce     0.649450\n",
       "log_itbit    0.272565\n",
       "dtype: float64"
      ]
     },
     "execution_count": 39,
     "metadata": {},
     "output_type": "execute_result"
    }
   ],
   "source": [
    "X_log = sm.add_constant(data.iloc[:576,5:8])# first 40-day estimation\n",
    "coef_log = sm.OLS(data.iloc[:576,-1], X_log).fit().params\n",
    "coef_log"
   ]
  },
  {
   "cell_type": "code",
   "execution_count": 38,
   "metadata": {},
   "outputs": [],
   "source": [
    "a=coef_log[0]\n",
    "b=coef_log[1]\n",
    "beta=np.array([coef_log[2],coef_log[3],-1])"
   ]
  },
  {
   "cell_type": "code",
   "execution_count": null,
   "metadata": {},
   "outputs": [],
   "source": []
  }
 ],
 "metadata": {
  "kernelspec": {
   "display_name": "Python 3",
   "language": "python",
   "name": "python3"
  },
  "language_info": {
   "codemirror_mode": {
    "name": "ipython",
    "version": 3
   },
   "file_extension": ".py",
   "mimetype": "text/x-python",
   "name": "python",
   "nbconvert_exporter": "python",
   "pygments_lexer": "ipython3",
   "version": "3.7.3"
  }
 },
 "nbformat": 4,
 "nbformat_minor": 2
}
