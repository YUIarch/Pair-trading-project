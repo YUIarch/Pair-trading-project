{
 "cells": [
  {
   "cell_type": "code",
   "execution_count": 1,
   "metadata": {},
   "outputs": [],
   "source": [
    "import pandas as pd\n",
    "pd.set_option('display.float_format',lambda x : '%.2f' % x)"
   ]
  },
  {
   "cell_type": "code",
   "execution_count": 2,
   "metadata": {},
   "outputs": [
    {
     "data": {
      "text/html": [
       "<div>\n",
       "<style scoped>\n",
       "    .dataframe tbody tr th:only-of-type {\n",
       "        vertical-align: middle;\n",
       "    }\n",
       "\n",
       "    .dataframe tbody tr th {\n",
       "        vertical-align: top;\n",
       "    }\n",
       "\n",
       "    .dataframe thead th {\n",
       "        text-align: right;\n",
       "    }\n",
       "</style>\n",
       "<table border=\"1\" class=\"dataframe\">\n",
       "  <thead>\n",
       "    <tr style=\"text-align: right;\">\n",
       "      <th></th>\n",
       "      <th>unixtime</th>\n",
       "      <th>itbit_price</th>\n",
       "    </tr>\n",
       "  </thead>\n",
       "  <tbody>\n",
       "    <tr>\n",
       "      <th>0</th>\n",
       "      <td>1396572190.00</td>\n",
       "      <td>441.50</td>\n",
       "    </tr>\n",
       "    <tr>\n",
       "      <th>1</th>\n",
       "      <td>1396578190.00</td>\n",
       "      <td>441.50</td>\n",
       "    </tr>\n",
       "    <tr>\n",
       "      <th>2</th>\n",
       "      <td>1396584190.00</td>\n",
       "      <td>438.87</td>\n",
       "    </tr>\n",
       "    <tr>\n",
       "      <th>3</th>\n",
       "      <td>1396590190.00</td>\n",
       "      <td>435.28</td>\n",
       "    </tr>\n",
       "    <tr>\n",
       "      <th>4</th>\n",
       "      <td>1396596190.00</td>\n",
       "      <td>444.56</td>\n",
       "    </tr>\n",
       "  </tbody>\n",
       "</table>\n",
       "</div>"
      ],
      "text/plain": [
       "       unixtime  itbit_price\n",
       "0 1396572190.00       441.50\n",
       "1 1396578190.00       441.50\n",
       "2 1396584190.00       438.87\n",
       "3 1396590190.00       435.28\n",
       "4 1396596190.00       444.56"
      ]
     },
     "execution_count": 2,
     "metadata": {},
     "output_type": "execute_result"
    }
   ],
   "source": [
    "itbit=pd.read_csv(\"C:/Users/Bao Yu/Desktop/project/data/itbit_6000s_sampling.csv\",header=None,names=['unixtime','itbit_price'])\n",
    "itbit.head()"
   ]
  },
  {
   "cell_type": "code",
   "execution_count": 3,
   "metadata": {},
   "outputs": [
    {
     "name": "stdout",
     "output_type": "stream",
     "text": [
      "       unixtime  btce_price\n",
      "0 1396572190.00      439.52\n",
      "1 1396578190.00      439.00\n",
      "2 1396584190.00      433.99\n",
      "3 1396590190.00      425.00\n",
      "4 1396596190.00      441.11\n",
      "--------------\n"
     ]
    },
    {
     "data": {
      "text/html": [
       "<div>\n",
       "<style scoped>\n",
       "    .dataframe tbody tr th:only-of-type {\n",
       "        vertical-align: middle;\n",
       "    }\n",
       "\n",
       "    .dataframe tbody tr th {\n",
       "        vertical-align: top;\n",
       "    }\n",
       "\n",
       "    .dataframe thead th {\n",
       "        text-align: right;\n",
       "    }\n",
       "</style>\n",
       "<table border=\"1\" class=\"dataframe\">\n",
       "  <thead>\n",
       "    <tr style=\"text-align: right;\">\n",
       "      <th></th>\n",
       "      <th>unixtime</th>\n",
       "      <th>stamp_price</th>\n",
       "    </tr>\n",
       "  </thead>\n",
       "  <tbody>\n",
       "    <tr>\n",
       "      <th>0</th>\n",
       "      <td>1396572190.00</td>\n",
       "      <td>457.38</td>\n",
       "    </tr>\n",
       "    <tr>\n",
       "      <th>1</th>\n",
       "      <td>1396578190.00</td>\n",
       "      <td>447.54</td>\n",
       "    </tr>\n",
       "    <tr>\n",
       "      <th>2</th>\n",
       "      <td>1396584190.00</td>\n",
       "      <td>442.08</td>\n",
       "    </tr>\n",
       "    <tr>\n",
       "      <th>3</th>\n",
       "      <td>1396590190.00</td>\n",
       "      <td>442.09</td>\n",
       "    </tr>\n",
       "    <tr>\n",
       "      <th>4</th>\n",
       "      <td>1396596190.00</td>\n",
       "      <td>452.57</td>\n",
       "    </tr>\n",
       "  </tbody>\n",
       "</table>\n",
       "</div>"
      ],
      "text/plain": [
       "       unixtime  stamp_price\n",
       "0 1396572190.00       457.38\n",
       "1 1396578190.00       447.54\n",
       "2 1396584190.00       442.08\n",
       "3 1396590190.00       442.09\n",
       "4 1396596190.00       452.57"
      ]
     },
     "execution_count": 3,
     "metadata": {},
     "output_type": "execute_result"
    }
   ],
   "source": [
    "btce=pd.read_csv(\"C:/Users/Bao Yu/Desktop/project/data/btce_6000s_sampling.csv\",header=None,names=['unixtime','btce_price'])\n",
    "print(btce.head())\n",
    "print('--------------')\n",
    "stamp=pd.read_csv(\"C:/Users/Bao Yu/Desktop/project/data/bitstamp_6000s_sampling.csv\",header=None,names=['unixtime','stamp_price'])\n",
    "stamp.head()"
   ]
  },
  {
   "cell_type": "code",
   "execution_count": 16,
   "metadata": {},
   "outputs": [
    {
     "data": {
      "text/html": [
       "<div>\n",
       "<style scoped>\n",
       "    .dataframe tbody tr th:only-of-type {\n",
       "        vertical-align: middle;\n",
       "    }\n",
       "\n",
       "    .dataframe tbody tr th {\n",
       "        vertical-align: top;\n",
       "    }\n",
       "\n",
       "    .dataframe thead th {\n",
       "        text-align: right;\n",
       "    }\n",
       "</style>\n",
       "<table border=\"1\" class=\"dataframe\">\n",
       "  <thead>\n",
       "    <tr style=\"text-align: right;\">\n",
       "      <th></th>\n",
       "      <th>unixtime</th>\n",
       "      <th>itbit_price</th>\n",
       "      <th>btce_price</th>\n",
       "      <th>stamp_price</th>\n",
       "    </tr>\n",
       "  </thead>\n",
       "  <tbody>\n",
       "    <tr>\n",
       "      <th>0</th>\n",
       "      <td>1396572190.00</td>\n",
       "      <td>441.50</td>\n",
       "      <td>439.52</td>\n",
       "      <td>457.38</td>\n",
       "    </tr>\n",
       "    <tr>\n",
       "      <th>1</th>\n",
       "      <td>1396578190.00</td>\n",
       "      <td>441.50</td>\n",
       "      <td>439.00</td>\n",
       "      <td>447.54</td>\n",
       "    </tr>\n",
       "    <tr>\n",
       "      <th>2</th>\n",
       "      <td>1396584190.00</td>\n",
       "      <td>438.87</td>\n",
       "      <td>433.99</td>\n",
       "      <td>442.08</td>\n",
       "    </tr>\n",
       "    <tr>\n",
       "      <th>3</th>\n",
       "      <td>1396590190.00</td>\n",
       "      <td>435.28</td>\n",
       "      <td>425.00</td>\n",
       "      <td>442.09</td>\n",
       "    </tr>\n",
       "    <tr>\n",
       "      <th>4</th>\n",
       "      <td>1396596190.00</td>\n",
       "      <td>444.56</td>\n",
       "      <td>441.11</td>\n",
       "      <td>452.57</td>\n",
       "    </tr>\n",
       "  </tbody>\n",
       "</table>\n",
       "</div>"
      ],
      "text/plain": [
       "       unixtime  itbit_price  btce_price  stamp_price\n",
       "0 1396572190.00       441.50      439.52       457.38\n",
       "1 1396578190.00       441.50      439.00       447.54\n",
       "2 1396584190.00       438.87      433.99       442.08\n",
       "3 1396590190.00       435.28      425.00       442.09\n",
       "4 1396596190.00       444.56      441.11       452.57"
      ]
     },
     "execution_count": 16,
     "metadata": {},
     "output_type": "execute_result"
    }
   ],
   "source": [
    "data=pd.merge(itbit,btce,on='unixtime')\n",
    "data=pd.merge(data,stamp,on='unixtime')\n",
    "data.head()"
   ]
  },
  {
   "cell_type": "code",
   "execution_count": null,
   "metadata": {},
   "outputs": [],
   "source": [
    "data.to_csv(\"C:/Users/Bao Yu/Desktop/project/data/itbit_6000s_sampling.csv\")"
   ]
  }
 ],
 "metadata": {
  "kernelspec": {
   "display_name": "Python 3",
   "language": "python",
   "name": "python3"
  },
  "language_info": {
   "codemirror_mode": {
    "name": "ipython",
    "version": 3
   },
   "file_extension": ".py",
   "mimetype": "text/x-python",
   "name": "python",
   "nbconvert_exporter": "python",
   "pygments_lexer": "ipython3",
   "version": "3.7.3"
  }
 },
 "nbformat": 4,
 "nbformat_minor": 2
}
