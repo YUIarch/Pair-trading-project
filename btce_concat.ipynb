{
 "cells": [
  {
   "cell_type": "code",
   "execution_count": 1,
   "metadata": {},
   "outputs": [],
   "source": [
    "import pandas as pd"
   ]
  },
  {
   "cell_type": "code",
   "execution_count": 4,
   "metadata": {},
   "outputs": [
    {
     "data": {
      "text/html": [
       "<div>\n",
       "<style scoped>\n",
       "    .dataframe tbody tr th:only-of-type {\n",
       "        vertical-align: middle;\n",
       "    }\n",
       "\n",
       "    .dataframe tbody tr th {\n",
       "        vertical-align: top;\n",
       "    }\n",
       "\n",
       "    .dataframe thead th {\n",
       "        text-align: right;\n",
       "    }\n",
       "</style>\n",
       "<table border=\"1\" class=\"dataframe\">\n",
       "  <thead>\n",
       "    <tr style=\"text-align: right;\">\n",
       "      <th></th>\n",
       "      <th>unixtime</th>\n",
       "      <th>price</th>\n",
       "    </tr>\n",
       "  </thead>\n",
       "  <tbody>\n",
       "    <tr>\n",
       "      <th>0</th>\n",
       "      <td>1396572190</td>\n",
       "      <td>439.523</td>\n",
       "    </tr>\n",
       "    <tr>\n",
       "      <th>1</th>\n",
       "      <td>1396572207</td>\n",
       "      <td>437.578</td>\n",
       "    </tr>\n",
       "    <tr>\n",
       "      <th>2</th>\n",
       "      <td>1396572228</td>\n",
       "      <td>437.534</td>\n",
       "    </tr>\n",
       "    <tr>\n",
       "      <th>3</th>\n",
       "      <td>1396572269</td>\n",
       "      <td>437.535</td>\n",
       "    </tr>\n",
       "    <tr>\n",
       "      <th>4</th>\n",
       "      <td>1396572309</td>\n",
       "      <td>437.541</td>\n",
       "    </tr>\n",
       "  </tbody>\n",
       "</table>\n",
       "</div>"
      ],
      "text/plain": [
       "     unixtime    price\n",
       "0  1396572190  439.523\n",
       "1  1396572207  437.578\n",
       "2  1396572228  437.534\n",
       "3  1396572269  437.535\n",
       "4  1396572309  437.541"
      ]
     },
     "execution_count": 4,
     "metadata": {},
     "output_type": "execute_result"
    }
   ],
   "source": [
    "btce_1_268w=pd.read_csv(\"C:/Users/Bao Yu/Desktop/project/data/btce_1_268w.csv\",header=0)\n",
    "btce_1_268w.head()"
   ]
  },
  {
   "cell_type": "code",
   "execution_count": 10,
   "metadata": {},
   "outputs": [
    {
     "data": {
      "text/html": [
       "<div>\n",
       "<style scoped>\n",
       "    .dataframe tbody tr th:only-of-type {\n",
       "        vertical-align: middle;\n",
       "    }\n",
       "\n",
       "    .dataframe tbody tr th {\n",
       "        vertical-align: top;\n",
       "    }\n",
       "\n",
       "    .dataframe thead th {\n",
       "        text-align: right;\n",
       "    }\n",
       "</style>\n",
       "<table border=\"1\" class=\"dataframe\">\n",
       "  <thead>\n",
       "    <tr style=\"text-align: right;\">\n",
       "      <th></th>\n",
       "      <th>unixtime</th>\n",
       "      <th>price</th>\n",
       "    </tr>\n",
       "  </thead>\n",
       "  <tbody>\n",
       "    <tr>\n",
       "      <th>0</th>\n",
       "      <td>1408600733</td>\n",
       "      <td>505.8490</td>\n",
       "    </tr>\n",
       "    <tr>\n",
       "      <th>1</th>\n",
       "      <td>1408600753</td>\n",
       "      <td>505.8480</td>\n",
       "    </tr>\n",
       "    <tr>\n",
       "      <th>2</th>\n",
       "      <td>1408600757</td>\n",
       "      <td>505.0010</td>\n",
       "    </tr>\n",
       "    <tr>\n",
       "      <th>3</th>\n",
       "      <td>1408600761</td>\n",
       "      <td>505.0402</td>\n",
       "    </tr>\n",
       "    <tr>\n",
       "      <th>4</th>\n",
       "      <td>1408600762</td>\n",
       "      <td>505.0500</td>\n",
       "    </tr>\n",
       "  </tbody>\n",
       "</table>\n",
       "</div>"
      ],
      "text/plain": [
       "     unixtime     price\n",
       "0  1408600733  505.8490\n",
       "1  1408600753  505.8480\n",
       "2  1408600757  505.0010\n",
       "3  1408600761  505.0402\n",
       "4  1408600762  505.0500"
      ]
     },
     "execution_count": 10,
     "metadata": {},
     "output_type": "execute_result"
    }
   ],
   "source": [
    "btce_268w_300w=pd.read_csv(\"C:/Users/Bao Yu/Desktop/project/data/btce_268w_300w.csv\",header=None,skiprows=2,names=['unixtime','price'])\n",
    "btce_268w_300w.head()"
   ]
  },
  {
   "cell_type": "code",
   "execution_count": 14,
   "metadata": {},
   "outputs": [
    {
     "data": {
      "text/html": [
       "<div>\n",
       "<style scoped>\n",
       "    .dataframe tbody tr th:only-of-type {\n",
       "        vertical-align: middle;\n",
       "    }\n",
       "\n",
       "    .dataframe tbody tr th {\n",
       "        vertical-align: top;\n",
       "    }\n",
       "\n",
       "    .dataframe thead th {\n",
       "        text-align: right;\n",
       "    }\n",
       "</style>\n",
       "<table border=\"1\" class=\"dataframe\">\n",
       "  <thead>\n",
       "    <tr style=\"text-align: right;\">\n",
       "      <th></th>\n",
       "      <th>unixtime</th>\n",
       "      <th>price</th>\n",
       "    </tr>\n",
       "  </thead>\n",
       "  <tbody>\n",
       "    <tr>\n",
       "      <th>0</th>\n",
       "      <td>1396572190</td>\n",
       "      <td>439.523</td>\n",
       "    </tr>\n",
       "    <tr>\n",
       "      <th>1</th>\n",
       "      <td>1396572207</td>\n",
       "      <td>437.578</td>\n",
       "    </tr>\n",
       "    <tr>\n",
       "      <th>2</th>\n",
       "      <td>1396572228</td>\n",
       "      <td>437.534</td>\n",
       "    </tr>\n",
       "    <tr>\n",
       "      <th>3</th>\n",
       "      <td>1396572269</td>\n",
       "      <td>437.535</td>\n",
       "    </tr>\n",
       "    <tr>\n",
       "      <th>4</th>\n",
       "      <td>1396572309</td>\n",
       "      <td>437.541</td>\n",
       "    </tr>\n",
       "  </tbody>\n",
       "</table>\n",
       "</div>"
      ],
      "text/plain": [
       "     unixtime    price\n",
       "0  1396572190  439.523\n",
       "1  1396572207  437.578\n",
       "2  1396572228  437.534\n",
       "3  1396572269  437.535\n",
       "4  1396572309  437.541"
      ]
     },
     "execution_count": 14,
     "metadata": {},
     "output_type": "execute_result"
    }
   ],
   "source": [
    "btce_1_300w=pd.concat([btce_1_268w,btce_268w_300w],ignore_index=True)\n",
    "btce_1_300w.head()"
   ]
  },
  {
   "cell_type": "code",
   "execution_count": 12,
   "metadata": {},
   "outputs": [
    {
     "data": {
      "text/html": [
       "<div>\n",
       "<style scoped>\n",
       "    .dataframe tbody tr th:only-of-type {\n",
       "        vertical-align: middle;\n",
       "    }\n",
       "\n",
       "    .dataframe tbody tr th {\n",
       "        vertical-align: top;\n",
       "    }\n",
       "\n",
       "    .dataframe thead th {\n",
       "        text-align: right;\n",
       "    }\n",
       "</style>\n",
       "<table border=\"1\" class=\"dataframe\">\n",
       "  <thead>\n",
       "    <tr style=\"text-align: right;\">\n",
       "      <th></th>\n",
       "      <th>unixtime</th>\n",
       "      <th>price</th>\n",
       "    </tr>\n",
       "  </thead>\n",
       "  <tbody>\n",
       "    <tr>\n",
       "      <th>53347</th>\n",
       "      <td>1409473651</td>\n",
       "      <td>485.958381</td>\n",
       "    </tr>\n",
       "    <tr>\n",
       "      <th>53348</th>\n",
       "      <td>1409473652</td>\n",
       "      <td>486.203000</td>\n",
       "    </tr>\n",
       "    <tr>\n",
       "      <th>53349</th>\n",
       "      <td>1409473653</td>\n",
       "      <td>486.218520</td>\n",
       "    </tr>\n",
       "    <tr>\n",
       "      <th>53350</th>\n",
       "      <td>1409473654</td>\n",
       "      <td>486.203553</td>\n",
       "    </tr>\n",
       "    <tr>\n",
       "      <th>53351</th>\n",
       "      <td>1409473655</td>\n",
       "      <td>486.203622</td>\n",
       "    </tr>\n",
       "  </tbody>\n",
       "</table>\n",
       "</div>"
      ],
      "text/plain": [
       "         unixtime       price\n",
       "53347  1409473651  485.958381\n",
       "53348  1409473652  486.203000\n",
       "53349  1409473653  486.218520\n",
       "53350  1409473654  486.203553\n",
       "53351  1409473655  486.203622"
      ]
     },
     "execution_count": 12,
     "metadata": {},
     "output_type": "execute_result"
    }
   ],
   "source": [
    "btce_268w_300w.tail()"
   ]
  },
  {
   "cell_type": "code",
   "execution_count": 15,
   "metadata": {},
   "outputs": [
    {
     "data": {
      "text/html": [
       "<div>\n",
       "<style scoped>\n",
       "    .dataframe tbody tr th:only-of-type {\n",
       "        vertical-align: middle;\n",
       "    }\n",
       "\n",
       "    .dataframe tbody tr th {\n",
       "        vertical-align: top;\n",
       "    }\n",
       "\n",
       "    .dataframe thead th {\n",
       "        text-align: right;\n",
       "    }\n",
       "</style>\n",
       "<table border=\"1\" class=\"dataframe\">\n",
       "  <thead>\n",
       "    <tr style=\"text-align: right;\">\n",
       "      <th></th>\n",
       "      <th>unixtime</th>\n",
       "      <th>price</th>\n",
       "    </tr>\n",
       "  </thead>\n",
       "  <tbody>\n",
       "    <tr>\n",
       "      <th>918835</th>\n",
       "      <td>1409473651</td>\n",
       "      <td>485.958381</td>\n",
       "    </tr>\n",
       "    <tr>\n",
       "      <th>918836</th>\n",
       "      <td>1409473652</td>\n",
       "      <td>486.203000</td>\n",
       "    </tr>\n",
       "    <tr>\n",
       "      <th>918837</th>\n",
       "      <td>1409473653</td>\n",
       "      <td>486.218520</td>\n",
       "    </tr>\n",
       "    <tr>\n",
       "      <th>918838</th>\n",
       "      <td>1409473654</td>\n",
       "      <td>486.203553</td>\n",
       "    </tr>\n",
       "    <tr>\n",
       "      <th>918839</th>\n",
       "      <td>1409473655</td>\n",
       "      <td>486.203622</td>\n",
       "    </tr>\n",
       "  </tbody>\n",
       "</table>\n",
       "</div>"
      ],
      "text/plain": [
       "          unixtime       price\n",
       "918835  1409473651  485.958381\n",
       "918836  1409473652  486.203000\n",
       "918837  1409473653  486.218520\n",
       "918838  1409473654  486.203553\n",
       "918839  1409473655  486.203622"
      ]
     },
     "execution_count": 15,
     "metadata": {},
     "output_type": "execute_result"
    }
   ],
   "source": [
    "btce_1_300w.tail()"
   ]
  },
  {
   "cell_type": "code",
   "execution_count": 16,
   "metadata": {},
   "outputs": [
    {
     "data": {
      "text/plain": [
       "1946157"
      ]
     },
     "execution_count": 16,
     "metadata": {},
     "output_type": "execute_result"
    }
   ],
   "source": [
    "btce_300w_350w=pd.read_csv(\"C:/Users/Bao Yu/Desktop/project/data/btce_300w_350w.csv\",header=None,skiprows=2,names=['unixtime','price'])\n",
    "btce_350w_400w=pd.read_csv(\"C:/Users/Bao Yu/Desktop/project/data/btce_350w_400w.csv\",header=None,skiprows=2,names=['unixtime','price'])\n",
    "btce_400w_450w=pd.read_csv(\"C:/Users/Bao Yu/Desktop/project/data/btce_400w_450w.csv\",header=None,skiprows=2,names=['unixtime','price'])\n",
    "btce_450w_500w=pd.read_csv(\"C:/Users/Bao Yu/Desktop/project/data/btce_450w_500w.csv\",header=None,skiprows=2,names=['unixtime','price'])\n",
    "btce_500w_583w=pd.read_csv(\"C:/Users/Bao Yu/Desktop/project/data/btce_500w_583w.csv\",header=None,skiprows=2,names=['unixtime','price'])\n",
    "btce_583w_650w=pd.read_csv(\"C:/Users/Bao Yu/Desktop/project/data/btce_583w_650w.csv\",header=None,skiprows=2,names=['unixtime','price'])\n",
    "btce_650w_700w=pd.read_csv(\"C:/Users/Bao Yu/Desktop/project/data/btce_650w_700w.csv\",header=None,skiprows=2,names=['unixtime','price'])\n",
    "\n",
    "\n",
    "btce_1_700w=pd.concat([btce_1_300w,btce_300w_350w,btce_350w_400w,btce_450w_500w,btce_500w_583w,btce_583w_650w,btce_650w_700w],ignore_index=True)\n",
    "len(btce_1_700w)"
   ]
  },
  {
   "cell_type": "code",
   "execution_count": 21,
   "metadata": {},
   "outputs": [
    {
     "data": {
      "text/html": [
       "<div>\n",
       "<style scoped>\n",
       "    .dataframe tbody tr th:only-of-type {\n",
       "        vertical-align: middle;\n",
       "    }\n",
       "\n",
       "    .dataframe tbody tr th {\n",
       "        vertical-align: top;\n",
       "    }\n",
       "\n",
       "    .dataframe thead th {\n",
       "        text-align: right;\n",
       "    }\n",
       "</style>\n",
       "<table border=\"1\" class=\"dataframe\">\n",
       "  <thead>\n",
       "    <tr style=\"text-align: right;\">\n",
       "      <th></th>\n",
       "      <th>unixtime</th>\n",
       "      <th>price</th>\n",
       "    </tr>\n",
       "  </thead>\n",
       "  <tbody>\n",
       "    <tr>\n",
       "      <th>4424018</th>\n",
       "      <td>1.456058e+09</td>\n",
       "      <td>429.1120</td>\n",
       "    </tr>\n",
       "    <tr>\n",
       "      <th>4424019</th>\n",
       "      <td>1.456058e+09</td>\n",
       "      <td>429.0185</td>\n",
       "    </tr>\n",
       "    <tr>\n",
       "      <th>4424020</th>\n",
       "      <td>1.456058e+09</td>\n",
       "      <td>429.0000</td>\n",
       "    </tr>\n",
       "    <tr>\n",
       "      <th>4424021</th>\n",
       "      <td>1.456058e+09</td>\n",
       "      <td>429.0370</td>\n",
       "    </tr>\n",
       "    <tr>\n",
       "      <th>4424022</th>\n",
       "      <td>1.456058e+09</td>\n",
       "      <td>429.1110</td>\n",
       "    </tr>\n",
       "  </tbody>\n",
       "</table>\n",
       "</div>"
      ],
      "text/plain": [
       "             unixtime     price\n",
       "4424018  1.456058e+09  429.1120\n",
       "4424019  1.456058e+09  429.0185\n",
       "4424020  1.456058e+09  429.0000\n",
       "4424021  1.456058e+09  429.0370\n",
       "4424022  1.456058e+09  429.1110"
      ]
     },
     "execution_count": 21,
     "metadata": {},
     "output_type": "execute_result"
    }
   ],
   "source": [
    "btce_700w_800w=pd.read_csv(\"C:/Users/Bao Yu/Desktop/project/data/btce_700w_800w.csv\",header=None,skiprows=2,names=['unixtime','price'])\n",
    "btce_800w_850w=pd.read_csv(\"C:/Users/Bao Yu/Desktop/project/data/btce_800w_850w.csv\",header=None,skiprows=2,names=['unixtime','price'])\n",
    "btce_850w_875w=pd.read_csv(\"C:/Users/Bao Yu/Desktop/project/data/btce_850w_875w.csv\",header=None,skiprows=2,names=['unixtime','price'])\n",
    "btce_875w_900w=pd.read_csv(\"C:/Users/Bao Yu/Desktop/project/data/btce_875w_900w.csv\",header=None,skiprows=2,names=['unixtime','price'])\n",
    "btce_900w_1000w=pd.read_csv(\"C:/Users/Bao Yu/Desktop/project/data/btce_900w_1000w.csv\",header=None,skiprows=2,names=['unixtime','price'])\n",
    "btce_1000w_1197w=pd.read_csv(\"C:/Users/Bao Yu/Desktop/project/data/btce_1000w_1197w.csv\",header=None,skiprows=2,names=['unixtime','price'])\n",
    "btce_1197w_1300w=pd.read_csv(\"C:/Users/Bao Yu/Desktop/project/data/btce_1197w_1300w.csv\",header=None,skiprows=2,names=['unixtime','price'])\n",
    "\n",
    "\n",
    "btce_1_1300w=pd.concat([btce_1_700w,btce_700w_800w,btce_800w_850w,btce_850w_875w,btce_875w_900w,btce_900w_1000w,btce_1000w_1197w,btce_1197w_1300w],ignore_index=True)\n",
    "btce_1_1300w.tail()"
   ]
  },
  {
   "cell_type": "code",
   "execution_count": 22,
   "metadata": {},
   "outputs": [
    {
     "data": {
      "text/html": [
       "<div>\n",
       "<style scoped>\n",
       "    .dataframe tbody tr th:only-of-type {\n",
       "        vertical-align: middle;\n",
       "    }\n",
       "\n",
       "    .dataframe tbody tr th {\n",
       "        vertical-align: top;\n",
       "    }\n",
       "\n",
       "    .dataframe thead th {\n",
       "        text-align: right;\n",
       "    }\n",
       "</style>\n",
       "<table border=\"1\" class=\"dataframe\">\n",
       "  <thead>\n",
       "    <tr style=\"text-align: right;\">\n",
       "      <th></th>\n",
       "      <th>unixtime</th>\n",
       "      <th>price</th>\n",
       "    </tr>\n",
       "  </thead>\n",
       "  <tbody>\n",
       "    <tr>\n",
       "      <th>5132211</th>\n",
       "      <td>1.467043e+09</td>\n",
       "      <td>619.000</td>\n",
       "    </tr>\n",
       "    <tr>\n",
       "      <th>5132212</th>\n",
       "      <td>1.467043e+09</td>\n",
       "      <td>619.000</td>\n",
       "    </tr>\n",
       "    <tr>\n",
       "      <th>5132213</th>\n",
       "      <td>1.467043e+09</td>\n",
       "      <td>618.999</td>\n",
       "    </tr>\n",
       "    <tr>\n",
       "      <th>5132214</th>\n",
       "      <td>1.467043e+09</td>\n",
       "      <td>618.999</td>\n",
       "    </tr>\n",
       "    <tr>\n",
       "      <th>5132215</th>\n",
       "      <td>1.467043e+09</td>\n",
       "      <td>618.999</td>\n",
       "    </tr>\n",
       "  </tbody>\n",
       "</table>\n",
       "</div>"
      ],
      "text/plain": [
       "             unixtime    price\n",
       "5132211  1.467043e+09  619.000\n",
       "5132212  1.467043e+09  619.000\n",
       "5132213  1.467043e+09  618.999\n",
       "5132214  1.467043e+09  618.999\n",
       "5132215  1.467043e+09  618.999"
      ]
     },
     "execution_count": 22,
     "metadata": {},
     "output_type": "execute_result"
    }
   ],
   "source": [
    "btce_1300w_1350w=pd.read_csv(\"C:/Users/Bao Yu/Desktop/project/data/btce_1300w_1350w.csv\",header=None,skiprows=2,names=['unixtime','price'])\n",
    "btce_1350w_1400w=pd.read_csv(\"C:/Users/Bao Yu/Desktop/project/data/btce_1350w_1400w.csv\",header=None,skiprows=2,names=['unixtime','price'])\n",
    "btce_1400w_1410w=pd.read_csv(\"C:/Users/Bao Yu/Desktop/project/data/btce_1400w_1410w.csv\",header=None,skiprows=2,names=['unixtime','price'])\n",
    "btce_1410w_1420w=pd.read_csv(\"C:/Users/Bao Yu/Desktop/project/data/btce_1410w_1420w.csv\",header=None,skiprows=2,names=['unixtime','price'])\n",
    "btce_1420w_1430w=pd.read_csv(\"C:/Users/Bao Yu/Desktop/project/data/btce_1420w_1430w.csv\",header=None,skiprows=2,names=['unixtime','price'])\n",
    "btce_1430w_1440w=pd.read_csv(\"C:/Users/Bao Yu/Desktop/project/data/btce_1430w_1440w.csv\",header=None,skiprows=2,names=['unixtime','price'])\n",
    "btce_1440w_1450w=pd.read_csv(\"C:/Users/Bao Yu/Desktop/project/data/btce_1440w_1450w.csv\",header=None,skiprows=2,names=['unixtime','price'])\n",
    "\n",
    "\n",
    "btce_1_1450w=pd.concat([btce_1_1300w,btce_1300w_1350w,btce_1350w_1400w,btce_1400w_1410w,btce_1410w_1420w,btce_1420w_1430w,btce_1430w_1440w,btce_1440w_1450w],ignore_index=True)\n",
    "btce_1_1450w.tail()"
   ]
  },
  {
   "cell_type": "code",
   "execution_count": 23,
   "metadata": {},
   "outputs": [
    {
     "data": {
      "text/html": [
       "<div>\n",
       "<style scoped>\n",
       "    .dataframe tbody tr th:only-of-type {\n",
       "        vertical-align: middle;\n",
       "    }\n",
       "\n",
       "    .dataframe tbody tr th {\n",
       "        vertical-align: top;\n",
       "    }\n",
       "\n",
       "    .dataframe thead th {\n",
       "        text-align: right;\n",
       "    }\n",
       "</style>\n",
       "<table border=\"1\" class=\"dataframe\">\n",
       "  <thead>\n",
       "    <tr style=\"text-align: right;\">\n",
       "      <th></th>\n",
       "      <th>unixtime</th>\n",
       "      <th>price</th>\n",
       "    </tr>\n",
       "  </thead>\n",
       "  <tbody>\n",
       "    <tr>\n",
       "      <th>6046057</th>\n",
       "      <td>1.478001e+09</td>\n",
       "      <td>718.1340</td>\n",
       "    </tr>\n",
       "    <tr>\n",
       "      <th>6046058</th>\n",
       "      <td>1.478001e+09</td>\n",
       "      <td>718.6408</td>\n",
       "    </tr>\n",
       "    <tr>\n",
       "      <th>6046059</th>\n",
       "      <td>1.478001e+09</td>\n",
       "      <td>718.9990</td>\n",
       "    </tr>\n",
       "    <tr>\n",
       "      <th>6046060</th>\n",
       "      <td>1.478001e+09</td>\n",
       "      <td>718.0010</td>\n",
       "    </tr>\n",
       "    <tr>\n",
       "      <th>6046061</th>\n",
       "      <td>1.478001e+09</td>\n",
       "      <td>718.5000</td>\n",
       "    </tr>\n",
       "  </tbody>\n",
       "</table>\n",
       "</div>"
      ],
      "text/plain": [
       "             unixtime     price\n",
       "6046057  1.478001e+09  718.1340\n",
       "6046058  1.478001e+09  718.6408\n",
       "6046059  1.478001e+09  718.9990\n",
       "6046060  1.478001e+09  718.0010\n",
       "6046061  1.478001e+09  718.5000"
      ]
     },
     "execution_count": 23,
     "metadata": {},
     "output_type": "execute_result"
    }
   ],
   "source": [
    "btce_1450w_1460w=pd.read_csv(\"C:/Users/Bao Yu/Desktop/project/data/btce_1450w_1460w.csv\",header=None,skiprows=2,names=['unixtime','price'])\n",
    "btce_1460w_1470w=pd.read_csv(\"C:/Users/Bao Yu/Desktop/project/data/btce_1460w_1470w.csv\",header=None,skiprows=2,names=['unixtime','price'])\n",
    "btce_1470w_1500w=pd.read_csv(\"C:/Users/Bao Yu/Desktop/project/data/btce_1470w_1500w.csv\",header=None,skiprows=2,names=['unixtime','price'])\n",
    "btce_1500w_1510w=pd.read_csv(\"C:/Users/Bao Yu/Desktop/project/data/btce_1500w_1510w.csv\",header=None,skiprows=2,names=['unixtime','price'])\n",
    "btce_1510w_1550w=pd.read_csv(\"C:/Users/Bao Yu/Desktop/project/data/btce_1510w_1550w.csv\",header=None,skiprows=2,names=['unixtime','price'])\n",
    "btce_1550w_1575w=pd.read_csv(\"C:/Users/Bao Yu/Desktop/project/data/btce_1550w_1575w.csv\",header=None,skiprows=2,names=['unixtime','price'])\n",
    "btce_1575w_1600w=pd.read_csv(\"C:/Users/Bao Yu/Desktop/project/data/btce_1575w_1600w.csv\",header=None,skiprows=2,names=['unixtime','price'])\n",
    "\n",
    "\n",
    "btce_1_1600w=pd.concat([btce_1_1450w,btce_1450w_1460w,btce_1460w_1470w,btce_1470w_1500w,btce_1500w_1510w,btce_1510w_1550w,btce_1550w_1575w,btce_1575w_1600w],ignore_index=True)\n",
    "btce_1_1600w.tail()"
   ]
  },
  {
   "cell_type": "code",
   "execution_count": 25,
   "metadata": {},
   "outputs": [
    {
     "data": {
      "text/html": [
       "<div>\n",
       "<style scoped>\n",
       "    .dataframe tbody tr th:only-of-type {\n",
       "        vertical-align: middle;\n",
       "    }\n",
       "\n",
       "    .dataframe tbody tr th {\n",
       "        vertical-align: top;\n",
       "    }\n",
       "\n",
       "    .dataframe thead th {\n",
       "        text-align: right;\n",
       "    }\n",
       "</style>\n",
       "<table border=\"1\" class=\"dataframe\">\n",
       "  <thead>\n",
       "    <tr style=\"text-align: right;\">\n",
       "      <th></th>\n",
       "      <th>unixtime</th>\n",
       "      <th>price</th>\n",
       "    </tr>\n",
       "  </thead>\n",
       "  <tbody>\n",
       "    <tr>\n",
       "      <th>6534237</th>\n",
       "      <td>1.483228e+09</td>\n",
       "      <td>929.4975</td>\n",
       "    </tr>\n",
       "    <tr>\n",
       "      <th>6534238</th>\n",
       "      <td>1.483228e+09</td>\n",
       "      <td>928.8950</td>\n",
       "    </tr>\n",
       "    <tr>\n",
       "      <th>6534239</th>\n",
       "      <td>1.483228e+09</td>\n",
       "      <td>928.8960</td>\n",
       "    </tr>\n",
       "    <tr>\n",
       "      <th>6534240</th>\n",
       "      <td>1.483228e+09</td>\n",
       "      <td>929.4920</td>\n",
       "    </tr>\n",
       "    <tr>\n",
       "      <th>6534241</th>\n",
       "      <td>1.483228e+09</td>\n",
       "      <td>929.4910</td>\n",
       "    </tr>\n",
       "  </tbody>\n",
       "</table>\n",
       "</div>"
      ],
      "text/plain": [
       "             unixtime     price\n",
       "6534237  1.483228e+09  929.4975\n",
       "6534238  1.483228e+09  928.8950\n",
       "6534239  1.483228e+09  928.8960\n",
       "6534240  1.483228e+09  929.4920\n",
       "6534241  1.483228e+09  929.4910"
      ]
     },
     "execution_count": 25,
     "metadata": {},
     "output_type": "execute_result"
    }
   ],
   "source": [
    "btce_1600w_1650w=pd.read_csv(\"C:/Users/Bao Yu/Desktop/project/data/btce_1600w_1650w.csv\",header=None,skiprows=2,names=['unixtime','price'])\n",
    "btce_1650w_1675w=pd.read_csv(\"C:/Users/Bao Yu/Desktop/project/data/btce_1650w_1675w.csv\",header=None,skiprows=2,names=['unixtime','price'])\n",
    "btce_1675w_end=pd.read_csv(\"C:/Users/Bao Yu/Desktop/project/data/btce_1675w_end.csv\",header=None,skiprows=2,names=['unixtime','price'])\n",
    "\n",
    "btce_1_end=pd.concat([btce_1_1600w,btce_1600w_1650w,btce_1650w_1675w,btce_1675w_end],ignore_index=True)\n",
    "btce_1_end.tail()"
   ]
  },
  {
   "cell_type": "code",
   "execution_count": 26,
   "metadata": {},
   "outputs": [
    {
     "data": {
      "text/html": [
       "<div>\n",
       "<style scoped>\n",
       "    .dataframe tbody tr th:only-of-type {\n",
       "        vertical-align: middle;\n",
       "    }\n",
       "\n",
       "    .dataframe tbody tr th {\n",
       "        vertical-align: top;\n",
       "    }\n",
       "\n",
       "    .dataframe thead th {\n",
       "        text-align: right;\n",
       "    }\n",
       "</style>\n",
       "<table border=\"1\" class=\"dataframe\">\n",
       "  <thead>\n",
       "    <tr style=\"text-align: right;\">\n",
       "      <th></th>\n",
       "      <th>unixtime</th>\n",
       "      <th>price</th>\n",
       "    </tr>\n",
       "  </thead>\n",
       "  <tbody>\n",
       "    <tr>\n",
       "      <th>count</th>\n",
       "      <td>6.534242e+06</td>\n",
       "      <td>6.534242e+06</td>\n",
       "    </tr>\n",
       "    <tr>\n",
       "      <th>mean</th>\n",
       "      <td>1.441820e+09</td>\n",
       "      <td>4.349469e+02</td>\n",
       "    </tr>\n",
       "    <tr>\n",
       "      <th>std</th>\n",
       "      <td>2.544371e+07</td>\n",
       "      <td>1.700042e+02</td>\n",
       "    </tr>\n",
       "    <tr>\n",
       "      <th>min</th>\n",
       "      <td>1.396572e+09</td>\n",
       "      <td>1.550247e+02</td>\n",
       "    </tr>\n",
       "    <tr>\n",
       "      <th>25%</th>\n",
       "      <td>1.421305e+09</td>\n",
       "      <td>2.728500e+02</td>\n",
       "    </tr>\n",
       "    <tr>\n",
       "      <th>50%</th>\n",
       "      <td>1.444272e+09</td>\n",
       "      <td>4.165290e+02</td>\n",
       "    </tr>\n",
       "    <tr>\n",
       "      <th>75%</th>\n",
       "      <td>1.464471e+09</td>\n",
       "      <td>5.845200e+02</td>\n",
       "    </tr>\n",
       "    <tr>\n",
       "      <th>max</th>\n",
       "      <td>1.483228e+09</td>\n",
       "      <td>9.457620e+02</td>\n",
       "    </tr>\n",
       "  </tbody>\n",
       "</table>\n",
       "</div>"
      ],
      "text/plain": [
       "           unixtime         price\n",
       "count  6.534242e+06  6.534242e+06\n",
       "mean   1.441820e+09  4.349469e+02\n",
       "std    2.544371e+07  1.700042e+02\n",
       "min    1.396572e+09  1.550247e+02\n",
       "25%    1.421305e+09  2.728500e+02\n",
       "50%    1.444272e+09  4.165290e+02\n",
       "75%    1.464471e+09  5.845200e+02\n",
       "max    1.483228e+09  9.457620e+02"
      ]
     },
     "execution_count": 26,
     "metadata": {},
     "output_type": "execute_result"
    }
   ],
   "source": [
    "btce_1_end.describe()"
   ]
  },
  {
   "cell_type": "code",
   "execution_count": 31,
   "metadata": {},
   "outputs": [
    {
     "data": {
      "text/plain": [
       "1483227989.0"
      ]
     },
     "execution_count": 31,
     "metadata": {},
     "output_type": "execute_result"
    }
   ],
   "source": [
    "btce_1_end.iloc[-1].unixtime"
   ]
  },
  {
   "cell_type": "code",
   "execution_count": 32,
   "metadata": {},
   "outputs": [],
   "source": [
    "btce_1_end.to_csv(\"C:/Users/Bao Yu/Desktop/project/data/btce_2.0.csv\")"
   ]
  },
  {
   "cell_type": "code",
   "execution_count": null,
   "metadata": {},
   "outputs": [],
   "source": []
  }
 ],
 "metadata": {
  "kernelspec": {
   "display_name": "Python 3",
   "language": "python",
   "name": "python3"
  },
  "language_info": {
   "codemirror_mode": {
    "name": "ipython",
    "version": 3
   },
   "file_extension": ".py",
   "mimetype": "text/x-python",
   "name": "python",
   "nbconvert_exporter": "python",
   "pygments_lexer": "ipython3",
   "version": "3.7.3"
  }
 },
 "nbformat": 4,
 "nbformat_minor": 2
}
